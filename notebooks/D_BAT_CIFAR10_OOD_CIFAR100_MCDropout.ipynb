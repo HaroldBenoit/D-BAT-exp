{
  "cells": [
    {
      "cell_type": "markdown",
      "metadata": {
        "id": "RhFZcSy7PhDV"
      },
      "source": [
        "# Imports"
      ]
    },
    {
      "cell_type": "code",
      "execution_count": 1,
      "metadata": {
        "id": "_k-5hsOOPWY2"
      },
      "outputs": [],
      "source": [
        "import torch\n",
        "from torch import Tensor\n",
        "import torch.nn as nn\n",
        "import torch.nn.functional as F\n",
        "import numpy as np\n",
        "from torchvision.datasets import CIFAR10, CIFAR100\n",
        "from torchvision import transforms\n",
        "from torch.utils.data import TensorDataset, DataLoader, random_split\n",
        "import matplotlib.pyplot as plt\n",
        "import torchvision.utils as vision_utils\n",
        "from scipy.stats import truncnorm\n",
        "import torchvision\n",
        "from matplotlib.ticker import NullFormatter\n",
        "import copy\n",
        "from typing import Any, Callable, List, Optional, Type, Union\n",
        "\n",
        "\n",
        "DEVICE = torch.device('cuda')"
      ]
    },
    {
      "cell_type": "code",
      "execution_count": 2,
      "metadata": {
        "id": "8kkR6FVUJR7u",
        "colab": {
          "base_uri": "https://localhost:8080/"
        },
        "outputId": "d4e3ccf2-151f-4e6e-ffcc-6c6d5e936f20"
      },
      "outputs": [
        {
          "output_type": "stream",
          "name": "stdout",
          "text": [
            "Sat Feb  5 11:37:17 2022       \n",
            "+-----------------------------------------------------------------------------+\n",
            "| NVIDIA-SMI 460.32.03    Driver Version: 460.32.03    CUDA Version: 11.2     |\n",
            "|-------------------------------+----------------------+----------------------+\n",
            "| GPU  Name        Persistence-M| Bus-Id        Disp.A | Volatile Uncorr. ECC |\n",
            "| Fan  Temp  Perf  Pwr:Usage/Cap|         Memory-Usage | GPU-Util  Compute M. |\n",
            "|                               |                      |               MIG M. |\n",
            "|===============================+======================+======================|\n",
            "|   0  Tesla P100-PCIE...  Off  | 00000000:00:04.0 Off |                    0 |\n",
            "| N/A   50C    P0    33W / 250W |      0MiB / 16280MiB |      0%      Default |\n",
            "|                               |                      |                  N/A |\n",
            "+-------------------------------+----------------------+----------------------+\n",
            "                                                                               \n",
            "+-----------------------------------------------------------------------------+\n",
            "| Processes:                                                                  |\n",
            "|  GPU   GI   CI        PID   Type   Process name                  GPU Memory |\n",
            "|        ID   ID                                                   Usage      |\n",
            "|=============================================================================|\n",
            "|  No running processes found                                                 |\n",
            "+-----------------------------------------------------------------------------+\n"
          ]
        }
      ],
      "source": [
        "!nvidia-smi"
      ]
    },
    {
      "cell_type": "markdown",
      "metadata": {
        "id": "gmZ6NTmggizB"
      },
      "source": [
        "# Fetch CIFAR10"
      ]
    },
    {
      "cell_type": "code",
      "execution_count": 3,
      "metadata": {
        "id": "dzQNuVhKbhMV"
      },
      "outputs": [],
      "source": [
        "def plot_samples(dataset, nrow=13, figsize=(10,7)):\n",
        "  try:\n",
        "    X, Y = dataset.tensors\n",
        "  except:\n",
        "    try:\n",
        "      (X,) = dataset.tensors\n",
        "    except:\n",
        "      X = dataset\n",
        "  fig = plt.figure(figsize=figsize, dpi=130)\n",
        "  grid_img = vision_utils.make_grid(X[:nrow].cpu(), nrow=nrow, normalize=True, padding=1)\n",
        "  _ = plt.imshow(grid_img.permute(1, 2, 0), interpolation='nearest')\n",
        "  _ = plt.tick_params(axis=u'both', which=u'both',length=0)\n",
        "  ax = plt.gca()\n",
        "  _ = ax.xaxis.set_major_formatter(NullFormatter()) \n",
        "  _ = ax.yaxis.set_major_formatter(NullFormatter()) \n",
        "  plt.show()"
      ]
    },
    {
      "cell_type": "code",
      "execution_count": 4,
      "metadata": {
        "colab": {
          "base_uri": "https://localhost:8080/",
          "height": 313,
          "referenced_widgets": [
            "bd0faad41ce049fdbc7f801a9c89785c",
            "d30304fb260f4f61abf0c2a17eafa1c2",
            "225d4297b36242bc8df30c695a2d85cc",
            "7fe3728975ef4cefbb60ef6ef6978ba2",
            "4829f3da6a294e90b51ed83d04ae1d4a",
            "eda472b22b0a4c4e8a7d4913321ed5e3",
            "69593f4167014741a2914d8abbf33efd",
            "1761356c650c4bf180c36ce71a46f2be",
            "d34095c321fa4f929f619b10af03c122",
            "91ffdcfc6b9a408db2c5c704fb117e00",
            "80d53c4cfe3d4b80a7f9dd5a76f49f29"
          ]
        },
        "id": "NnT896EPeOtZ",
        "outputId": "eb307bc2-9659-4b4c-93b5-24285c4abcb4"
      },
      "outputs": [
        {
          "output_type": "stream",
          "name": "stdout",
          "text": [
            "Downloading https://www.cs.toronto.edu/~kriz/cifar-10-python.tar.gz to ./data/cifar-10-python.tar.gz\n"
          ]
        },
        {
          "output_type": "display_data",
          "data": {
            "application/vnd.jupyter.widget-view+json": {
              "model_id": "bd0faad41ce049fdbc7f801a9c89785c",
              "version_minor": 0,
              "version_major": 2
            },
            "text/plain": [
              "  0%|          | 0/170498071 [00:00<?, ?it/s]"
            ]
          },
          "metadata": {}
        },
        {
          "output_type": "stream",
          "name": "stdout",
          "text": [
            "Extracting ./data/cifar-10-python.tar.gz to ./data\n",
            "Files already downloaded and verified\n"
          ]
        },
        {
          "output_type": "stream",
          "name": "stderr",
          "text": [
            "/usr/local/lib/python3.7/dist-packages/ipykernel_launcher.py:5: UserWarning: To copy construct from a tensor, it is recommended to use sourceTensor.clone().detach() or sourceTensor.clone().detach().requires_grad_(True), rather than torch.tensor(sourceTensor).\n",
            "  \"\"\"\n"
          ]
        },
        {
          "output_type": "stream",
          "name": "stdout",
          "text": [
            "Train size: 22544\n",
            "Valid size: 2456\n",
            "Test size: 5000\n"
          ]
        },
        {
          "output_type": "display_data",
          "data": {
            "image/png": "[encoded data removed]",
            "text/plain": [
              "<Figure size 1300x910 with 1 Axes>"
            ]
          },
          "metadata": {
            "needs_background": "light"
          }
        }
      ],
      "source": [
        "def get_pytorch_dataset(dataset, device, classes_to_keep=None):\n",
        "  X, Y = [], []\n",
        "  for x, y in dataset:\n",
        "    if classes_to_keep is not None and y in classes_to_keep:\n",
        "      X.append(torch.tensor(x))\n",
        "      Y.append(y)\n",
        "    elif classes_to_keep is None:\n",
        "      X.append(torch.tensor(x))\n",
        "      Y.append(y)\n",
        "  X = torch.stack(X).to(device)\n",
        "  Y = torch.tensor(Y).long().to(device)\n",
        "  return TensorDataset(X, Y)\n",
        "\n",
        "train_data = CIFAR10(root='./data', train=True, download=True, transform=transforms.ToTensor())\n",
        "test_data = CIFAR10(root='./data', train=False, download=True, transform=transforms.ToTensor())\n",
        "\n",
        "train_data, valid_data = random_split(train_data, [45000, 5000])\n",
        "\n",
        "train_data = get_pytorch_dataset(train_data, DEVICE, classes_to_keep=[0,1,2,3,4])\n",
        "valid_data = get_pytorch_dataset(valid_data, DEVICE, classes_to_keep=[0,1,2,3,4])\n",
        "test_data = get_pytorch_dataset(test_data, DEVICE, classes_to_keep=[0,1,2,3,4])\n",
        "\n",
        "train_dl = DataLoader(train_data, batch_size=256, shuffle=True)\n",
        "valid_dl = DataLoader(valid_data, batch_size=1024, shuffle=False)\n",
        "test_dl  = DataLoader(test_data, batch_size=1024, shuffle=False)\n",
        "\n",
        "classes = ('plane', 'car', 'bird', 'cat', 'deer', 'dog', 'frog', 'horse', 'ship', 'truck')\n",
        "\n",
        "print(f\"Train size: {len(train_dl.dataset)}\")\n",
        "print(f\"Valid size: {len(valid_dl.dataset)}\")\n",
        "print(f\"Test size: {len(test_dl.dataset)}\")\n",
        "\n",
        "plot_samples(train_data)"
      ]
    },
    {
      "cell_type": "code",
      "execution_count": 5,
      "metadata": {
        "colab": {
          "base_uri": "https://localhost:8080/",
          "height": 122
        },
        "id": "mToyyfkHVWJU",
        "outputId": "2b09b8d1-a002-429d-f87e-cdbb2860a853"
      },
      "outputs": [
        {
          "output_type": "display_data",
          "data": {
            "image/png": "[encoded data removed]",
            "text/plain": [
              "<Figure size 1300x910 with 1 Axes>"
            ]
          },
          "metadata": {
            "needs_background": "light"
          }
        }
      ],
      "source": [
        "plot_samples(test_data)"
      ]
    },
    {
      "cell_type": "markdown",
      "metadata": {
        "id": "BItd8EhN9P15"
      },
      "source": [
        "# Get $\\mathcal{D}_\\text{ood}$"
      ]
    },
    {
      "cell_type": "code",
      "execution_count": 6,
      "metadata": {
        "colab": {
          "base_uri": "https://localhost:8080/",
          "height": 229
        },
        "id": "pdHlapyl9STS",
        "outputId": "e8b23429-2f1a-46b9-af36-ac91e1ce3255"
      },
      "outputs": [
        {
          "output_type": "stream",
          "name": "stdout",
          "text": [
            "Files already downloaded and verified\n",
            "Files already downloaded and verified\n"
          ]
        },
        {
          "output_type": "stream",
          "name": "stderr",
          "text": [
            "/usr/local/lib/python3.7/dist-packages/ipykernel_launcher.py:5: UserWarning: To copy construct from a tensor, it is recommended to use sourceTensor.clone().detach() or sourceTensor.clone().detach().requires_grad_(True), rather than torch.tensor(sourceTensor).\n",
            "  \"\"\"\n"
          ]
        },
        {
          "output_type": "stream",
          "name": "stdout",
          "text": [
            "OOD size: 30000\n"
          ]
        },
        {
          "output_type": "display_data",
          "data": {
            "image/png": "[encoded data removed]",
            "text/plain": [
              "<Figure size 1300x910 with 1 Axes>"
            ]
          },
          "metadata": {
            "needs_background": "light"
          }
        }
      ],
      "source": [
        "train_data = CIFAR10(root='./data', train=True, download=True, transform=transforms.ToTensor())\n",
        "test_data = CIFAR10(root='./data', train=False, download=True, transform=transforms.ToTensor())\n",
        "\n",
        "train_data = get_pytorch_dataset(train_data, DEVICE, classes_to_keep=[5,6,7,8,9])\n",
        "test_data = get_pytorch_dataset(test_data, DEVICE, classes_to_keep=[5,6,7,8,9])\n",
        "\n",
        "X_train, Y_train = train_data.tensors\n",
        "X_test, Y_test = test_data.tensors\n",
        "\n",
        "perturb_data = TensorDataset(torch.cat((X_train, X_test)), torch.cat((Y_train, Y_test)))\n",
        "\n",
        "perturb_dl = DataLoader(perturb_data, batch_size=256, shuffle=True)\n",
        "\n",
        "print(f\"OOD size: {len(perturb_dl.dataset)}\")\n",
        "\n",
        "plot_samples(perturb_data)"
      ]
    },
    {
      "cell_type": "markdown",
      "metadata": {
        "id": "KZd-vKDnglGB"
      },
      "source": [
        "# Fetch CIFAR100"
      ]
    },
    {
      "cell_type": "code",
      "execution_count": 7,
      "metadata": {
        "colab": {
          "base_uri": "https://localhost:8080/",
          "height": 261,
          "referenced_widgets": [
            "e5b1b937ac554fd481a36140700134d9",
            "ef92d96e512a4f27a29c22ec26780b2e",
            "3d5f20467c414f6fa92b050f118fcadc",
            "748f6732f4674d428347b3c9a480583d",
            "2bd8f604511f41e1b5679005430065cb",
            "59aeefbfb4b9417cb09892bad2238f24",
            "2ebe06b169de4fa98638912dec69502b",
            "5b3e056ed2f54cf5ab3f13ce2abd6c2a",
            "86a4cf40a857401db82847c5bc1a7239",
            "80f05aa2edc947dea84c43947a843982",
            "12423515374f427a8f99bc2704046c3e"
          ]
        },
        "id": "kMw1LraQeOwx",
        "outputId": "43aebbfe-4750-4b94-e894-2fcc34340236"
      },
      "outputs": [
        {
          "output_type": "stream",
          "name": "stdout",
          "text": [
            "Downloading https://www.cs.toronto.edu/~kriz/cifar-100-python.tar.gz to ./data/cifar-100-python.tar.gz\n"
          ]
        },
        {
          "output_type": "display_data",
          "data": {
            "application/vnd.jupyter.widget-view+json": {
              "model_id": "e5b1b937ac554fd481a36140700134d9",
              "version_minor": 0,
              "version_major": 2
            },
            "text/plain": [
              "  0%|          | 0/169001437 [00:00<?, ?it/s]"
            ]
          },
          "metadata": {}
        },
        {
          "output_type": "stream",
          "name": "stdout",
          "text": [
            "Extracting ./data/cifar-100-python.tar.gz to ./data\n"
          ]
        },
        {
          "output_type": "stream",
          "name": "stderr",
          "text": [
            "/usr/local/lib/python3.7/dist-packages/ipykernel_launcher.py:8: UserWarning: To copy construct from a tensor, it is recommended to use sourceTensor.clone().detach() or sourceTensor.clone().detach().requires_grad_(True), rather than torch.tensor(sourceTensor).\n",
            "  \n"
          ]
        },
        {
          "output_type": "stream",
          "name": "stdout",
          "text": [
            "Test size: 10000\n"
          ]
        },
        {
          "output_type": "display_data",
          "data": {
            "image/png": "[encoded data removed]",
            "text/plain": [
              "<Figure size 1300x910 with 1 Axes>"
            ]
          },
          "metadata": {
            "needs_background": "light"
          }
        }
      ],
      "source": [
        "test_data_c100 = CIFAR100(root='./data', train=False, download=True, transform=transforms.ToTensor())\n",
        "\n",
        "test_data_c100 = get_pytorch_dataset(test_data_c100, DEVICE)\n",
        "\n",
        "test_dl_c100  = DataLoader(test_data_c100, batch_size=1024, shuffle=False)\n",
        "\n",
        "print(f\"Test size: {len(test_dl_c100.dataset)}\")\n",
        "\n",
        "plot_samples(test_data_c100)"
      ]
    },
    {
      "cell_type": "markdown",
      "metadata": {
        "id": "lx6C0Bt-g2Nw"
      },
      "source": [
        "# Model\n",
        "\n",
        "This is a ResNet-18 with added dropout for MC-dropout. The fist convolution (conv1) is modified for better results on CIFAR-10: \n",
        "* `kernel_size`: 7 --> 3 \n",
        "* `stride`: 2 --> 1 \n",
        "* `padding`: 3 -->1\n",
        "\n",
        "The method `model.set_sample(True)` can be used to keep using dropout even with the model in eval mode (to prevent updating batch-norm parameters)."
      ]
    },
    {
      "cell_type": "code",
      "execution_count": 8,
      "metadata": {
        "id": "F3WebtkgeO1S"
      },
      "outputs": [],
      "source": [
        "def conv3x3(in_planes: int, out_planes: int, stride: int = 1, groups: int = 1, dilation: int = 1) -> nn.Conv2d:\n",
        "    \"\"\"3x3 convolution with padding\"\"\"\n",
        "    return nn.Conv2d(in_planes, out_planes, kernel_size=3, stride=stride,\n",
        "                     padding=dilation, groups=groups, bias=False, dilation=dilation)\n",
        "\n",
        "\n",
        "def conv1x1(in_planes: int, out_planes: int, stride: int = 1) -> nn.Conv2d:\n",
        "    \"\"\"1x1 convolution\"\"\"\n",
        "    return nn.Conv2d(in_planes, out_planes, kernel_size=1, stride=stride, bias=False)\n",
        "\n",
        "\n",
        "class BasicBlock(nn.Module):\n",
        "    expansion: int = 1\n",
        "\n",
        "    def __init__(\n",
        "        self,\n",
        "        inplanes: int,\n",
        "        planes: int,\n",
        "        stride: int = 1,\n",
        "        downsample: Optional[nn.Module] = None,\n",
        "        groups: int = 1,\n",
        "        base_width: int = 64,\n",
        "        dilation: int = 1,\n",
        "        norm_layer: Optional[Callable[..., nn.Module]] = None,\n",
        "        dropout_p: float = 0.5,\n",
        "        sample: bool = True\n",
        "    ) -> None:\n",
        "        super(BasicBlock, self).__init__()\n",
        "        if norm_layer is None:\n",
        "            norm_layer = nn.BatchNorm2d\n",
        "        if groups != 1 or base_width != 64:\n",
        "            raise ValueError('BasicBlock only supports groups=1 and base_width=64')\n",
        "        if dilation > 1:\n",
        "            raise NotImplementedError(\"Dilation > 1 not supported in BasicBlock\")\n",
        "        \n",
        "        self.dropout_p = dropout_p\n",
        "        self.sample = sample\n",
        "        # Both self.conv1 and self.downsample layers downsample the input when stride != 1\n",
        "        self.conv1 = conv3x3(inplanes, planes, stride)\n",
        "        self.bn1 = norm_layer(planes)\n",
        "        self.relu = nn.ReLU(inplace=True)\n",
        "        self.conv2 = conv3x3(planes, planes)\n",
        "        self.bn2 = norm_layer(planes)\n",
        "        self.downsample = downsample\n",
        "        self.stride = stride\n",
        "\n",
        "    def forward(self, x: Tensor) -> Tensor:\n",
        "        # if training or sampling, mc dropout will apply random binary mask\n",
        "        # Otherwise, for regular test set evaluation, we can just scale activations\n",
        "        mask = self.training or self.sample\n",
        "\n",
        "        identity = x\n",
        "\n",
        "        x = self.MC_dropout(x, p=self.dropout_p, mask=mask)\n",
        "        out = self.conv1(x)\n",
        "        out = self.bn1(out)\n",
        "        out = self.relu(out)\n",
        "        out = self.MC_dropout(out, p=self.dropout_p, mask=mask)\n",
        "\n",
        "        out = self.conv2(out)\n",
        "        out = self.bn2(out)\n",
        "\n",
        "        if self.downsample is not None:\n",
        "            identity = self.downsample(x)\n",
        "\n",
        "        out += identity\n",
        "        out = self.relu(out)\n",
        "\n",
        "        return out\n",
        "\n",
        "    def MC_dropout(self, act_vec, p=0.5, mask=True):\n",
        "        return F.dropout(act_vec, p=p, training=mask)\n",
        "\n",
        "\n",
        "class Bottleneck(nn.Module):\n",
        "    # Bottleneck in torchvision places the stride for downsampling at 3x3 convolution(self.conv2)\n",
        "    # while original implementation places the stride at the first 1x1 convolution(self.conv1)\n",
        "    # according to \"Deep residual learning for image recognition\"https://arxiv.org/abs/1512.03385.\n",
        "    # This variant is also known as ResNet V1.5 and improves accuracy according to\n",
        "    # https://ngc.nvidia.com/catalog/model-scripts/nvidia:resnet_50_v1_5_for_pytorch.\n",
        "\n",
        "    expansion: int = 4\n",
        "\n",
        "    def __init__(\n",
        "        self,\n",
        "        inplanes: int,\n",
        "        planes: int,\n",
        "        stride: int = 1,\n",
        "        downsample: Optional[nn.Module] = None,\n",
        "        groups: int = 1,\n",
        "        base_width: int = 64,\n",
        "        dilation: int = 1,\n",
        "        norm_layer: Optional[Callable[..., nn.Module]] = None,\n",
        "        dropout_p: float = 0.5,\n",
        "        sample: bool = True\n",
        "    ) -> None:\n",
        "        super(Bottleneck, self).__init__()\n",
        "        if norm_layer is None:\n",
        "            norm_layer = nn.BatchNorm2d\n",
        "        width = int(planes * (base_width / 64.)) * groups\n",
        "        self.dropout_p = dropout_p\n",
        "        self.sample = sample\n",
        "\n",
        "        # Both self.conv2 and self.downsample layers downsample the input when stride != 1\n",
        "        self.conv1 = conv1x1(inplanes, width)\n",
        "        self.bn1 = norm_layer(width)\n",
        "        self.conv2 = conv3x3(width, width, stride, groups, dilation)\n",
        "        self.bn2 = norm_layer(width)\n",
        "        self.conv3 = conv1x1(width, planes * self.expansion)\n",
        "        self.bn3 = norm_layer(planes * self.expansion)\n",
        "        self.relu = nn.ReLU(inplace=True)\n",
        "        self.downsample = downsample\n",
        "        self.stride = stride\n",
        "\n",
        "    def forward(self, x: Tensor) -> Tensor:\n",
        "\n",
        "        mask = self.training or self.sample\n",
        "\n",
        "        identity = x\n",
        "\n",
        "        x = self.MC_dropout(x, p=self.dropout_p, mask=mask)\n",
        "        out = self.conv1(x)\n",
        "        out = self.bn1(out)\n",
        "        out = self.relu(out)\n",
        "        out = self.MC_dropout(out, p=self.dropout_p, mask=mask)\n",
        "\n",
        "        out = self.conv2(out)\n",
        "        out = self.bn2(out)\n",
        "        out = self.relu(out)\n",
        "        out = self.MC_dropout(out, p=self.dropout_p, mask=mask)\n",
        "\n",
        "        out = self.conv3(out)\n",
        "        out = self.bn3(out)\n",
        "\n",
        "        if self.downsample is not None:\n",
        "            identity = self.downsample(x)\n",
        "\n",
        "        out += identity\n",
        "        out = self.relu(out)\n",
        "\n",
        "        return out\n",
        "\n",
        "    def MC_dropout(self, act_vec, p=0.5, mask=True):\n",
        "        return F.dropout(act_vec, p=p, training=mask)\n",
        "\n",
        "\n",
        "class ResNet(nn.Module):\n",
        "\n",
        "    def __init__(\n",
        "        self,\n",
        "        block: Type[Union[BasicBlock, Bottleneck]],\n",
        "        layers: List[int],\n",
        "        num_classes: int = 1000,\n",
        "        zero_init_residual: bool = False,\n",
        "        groups: int = 1,\n",
        "        width_per_group: int = 64,\n",
        "        replace_stride_with_dilation: Optional[List[bool]] = None,\n",
        "        norm_layer: Optional[Callable[..., nn.Module]] = None,\n",
        "        dropout_p: float = 0.5,\n",
        "        sample: bool = True,\n",
        "    ) -> None:\n",
        "        super(ResNet, self).__init__()\n",
        "        if norm_layer is None:\n",
        "            norm_layer = nn.BatchNorm2d\n",
        "        self._norm_layer = norm_layer\n",
        "\n",
        "        self.inplanes = 64\n",
        "        self.dilation = 1\n",
        "        self.dropout_p = dropout_p\n",
        "        self.sample = sample\n",
        "\n",
        "        if replace_stride_with_dilation is None:\n",
        "            # each element in the tuple indicates if we should replace\n",
        "            # the 2x2 stride with a dilated convolution instead\n",
        "            replace_stride_with_dilation = [False, False, False]\n",
        "        if len(replace_stride_with_dilation) != 3:\n",
        "            raise ValueError(\"replace_stride_with_dilation should be None \"\n",
        "                             \"or a 3-element tuple, got {}\".format(replace_stride_with_dilation))\n",
        "        self.groups = groups\n",
        "        self.base_width = width_per_group\n",
        "        # CIFAR: kernel_size 7 -> 3, stride 2 -> 1, padding 3->1\n",
        "        self.conv1_planes = 64\n",
        "        self.conv1 = nn.Conv2d(\n",
        "            3, self.conv1_planes, kernel_size=3, stride=1, padding=1, bias=False\n",
        "        )\n",
        "        self.bn1 = norm_layer(self.inplanes)\n",
        "        self.relu = nn.ReLU(inplace=True)\n",
        "        # Remove maxpool layer from forward by changing it into an identity layer\n",
        "        self.maxpool = nn.Identity()\n",
        "        self.layer1 = self._make_layer(block, 64, layers[0])\n",
        "        self.layer2 = self._make_layer(block, 128, layers[1], stride=2,\n",
        "                                       dilate=replace_stride_with_dilation[0])\n",
        "        self.layer3 = self._make_layer(block, 256, layers[2], stride=2,\n",
        "                                       dilate=replace_stride_with_dilation[1])\n",
        "        self.layer4 = self._make_layer(block, 512, layers[3], stride=2,\n",
        "                                       dilate=replace_stride_with_dilation[2])\n",
        "        self.avgpool = nn.AdaptiveAvgPool2d((1, 1))\n",
        "        self.fc = nn.Linear(512 * block.expansion, num_classes)\n",
        "\n",
        "        for m in self.modules():\n",
        "            if isinstance(m, nn.Conv2d):\n",
        "                nn.init.kaiming_normal_(m.weight, mode='fan_out', nonlinearity='relu')\n",
        "            elif isinstance(m, (nn.BatchNorm2d, nn.GroupNorm)):\n",
        "                nn.init.constant_(m.weight, 1)\n",
        "                nn.init.constant_(m.bias, 0)\n",
        "\n",
        "        # Zero-initialize the last BN in each residual branch,\n",
        "        # so that the residual branch starts with zeros, and each residual block behaves like an identity.\n",
        "        # This improves the model by 0.2~0.3% according to https://arxiv.org/abs/1706.02677\n",
        "        if zero_init_residual:\n",
        "            for m in self.modules():\n",
        "                if isinstance(m, Bottleneck):\n",
        "                    nn.init.constant_(m.bn3.weight, 0)  # type: ignore[arg-type]\n",
        "                elif isinstance(m, BasicBlock):\n",
        "                    nn.init.constant_(m.bn2.weight, 0)  # type: ignore[arg-type]\n",
        "\n",
        "\n",
        "    def _make_layer(self, block: Type[Union[BasicBlock, Bottleneck]], planes: int, blocks: int,\n",
        "                    stride: int = 1, dilate: bool = False) -> nn.Sequential:\n",
        "        norm_layer = self._norm_layer\n",
        "        downsample = None\n",
        "        previous_dilation = self.dilation\n",
        "        if dilate:\n",
        "            self.dilation *= stride\n",
        "            stride = 1\n",
        "        if stride != 1 or self.inplanes != planes * block.expansion:\n",
        "            downsample = nn.Sequential(\n",
        "                conv1x1(self.inplanes, planes * block.expansion, stride),\n",
        "                norm_layer(planes * block.expansion),\n",
        "            )\n",
        "\n",
        "        layers = []\n",
        "        layers.append(block(self.inplanes, planes, stride, downsample, self.groups,\n",
        "                            self.base_width, previous_dilation, norm_layer, dropout_p=self.dropout_p))\n",
        "        self.inplanes = planes * block.expansion\n",
        "        for _ in range(1, blocks):\n",
        "            layers.append(block(self.inplanes, planes, groups=self.groups,\n",
        "                                base_width=self.base_width, dilation=self.dilation,\n",
        "                                norm_layer=norm_layer, dropout_p=self.dropout_p))\n",
        "\n",
        "        return nn.Sequential(*layers)\n",
        "\n",
        "    def _forward_impl(self, x: Tensor) -> Tensor:\n",
        "        # if training or sampling, mc dropout will apply random binary mask\n",
        "        # Otherwise, for regular test set evaluation, we can just scale activations\n",
        "        mask = self.training or self.sample\n",
        "\n",
        "        # See note [TorchScript super()]\n",
        "        x = self.conv1(x)\n",
        "        x = self.bn1(x)\n",
        "        x = self.relu(x)\n",
        "        x = self.maxpool(x)\n",
        "        \n",
        "        x = self.layer1(x)\n",
        "        x = self.layer2(x)\n",
        "        x = self.layer3(x)\n",
        "        x = self.layer4(x)\n",
        "\n",
        "        x = self.avgpool(x)\n",
        "        x = torch.flatten(x, 1)\n",
        "        x = self.fc(x)\n",
        "\n",
        "        return x\n",
        "\n",
        "    def forward(self, x: Tensor) -> Tensor:\n",
        "        return self._forward_impl(x)\n",
        "\n",
        "    def MC_dropout(self, act_vec, p=0.5, mask=True):\n",
        "        return F.dropout(act_vec, p=p, training=mask)\n",
        "\n",
        "    def set_sample(self, sample):\n",
        "        self.sample = sample\n",
        "        layers = [self.layer1, self.layer2,\n",
        "                  self.layer3, self.layer4]\n",
        "        for layer in layers:\n",
        "            for block in layer.children():\n",
        "                block.sample = sample\n",
        "\n",
        "\n",
        "def _resnet(\n",
        "    arch: str,\n",
        "    block: Type[Union[BasicBlock, Bottleneck]],\n",
        "    layers: List[int],\n",
        "    pretrained: bool,\n",
        "    progress: bool,\n",
        "    **kwargs: Any\n",
        ") -> ResNet:\n",
        "    model = ResNet(block, layers, **kwargs)\n",
        "    return model\n",
        "\n",
        "\n",
        "def resnet18MCD(pretrained: bool = False, progress: bool = True, **kwargs: Any) -> ResNet:\n",
        "    r\"\"\"ResNet-18 model from\n",
        "    `\"Deep Residual Learning for Image Recognition\" <https://arxiv.org/pdf/1512.03385.pdf>`_.\n",
        "    Args:\n",
        "        pretrained (bool): If True, returns a model pre-trained on ImageNet\n",
        "        progress (bool): If True, displays a progress bar of the download to stderr\n",
        "    \"\"\"\n",
        "    return _resnet('resnet18', BasicBlock, [2, 2, 2, 2], pretrained, progress,\n",
        "                   **kwargs)"
      ]
    },
    {
      "cell_type": "markdown",
      "metadata": {
        "id": "OAsaE_Yug6wl"
      },
      "source": [
        "# Utils"
      ]
    },
    {
      "cell_type": "code",
      "execution_count": 9,
      "metadata": {
        "id": "ShBRKRhVeO3F"
      },
      "outputs": [],
      "source": [
        "@torch.no_grad()\n",
        "def get_acc(model, dl): # Eval without dropout\n",
        "  model.eval()\n",
        "  model.set_sample(False)\n",
        "  acc = []\n",
        "  for X, y in dl:\n",
        "    acc.append(torch.argmax(model(X), dim=1) == y)\n",
        "  acc = torch.cat(acc)\n",
        "  acc = torch.sum(acc)/len(acc)\n",
        "  model.train()\n",
        "  model.set_sample(True)\n",
        "  return acc.item()\n",
        "\n",
        "\n",
        "@torch.no_grad()\n",
        "def get_ensemble_acc(models, dl): # Eval without dropout, eval the ensemble \n",
        "  for model in models:\n",
        "    model.eval()\n",
        "    model.set_sample(False)\n",
        "  acc = []\n",
        "  for X, y in dl:\n",
        "    outs = [torch.softmax(model(X), dim=1) for model in models]\n",
        "    outs = torch.stack(outs, dim=0).mean(dim=0)\n",
        "    acc.append(torch.argmax(outs, dim=1) == y)\n",
        "  acc = torch.cat(acc)\n",
        "  acc = torch.sum(acc)/len(acc)\n",
        "  for model in models:\n",
        "    model.train()\n",
        "    model.set_sample(True)\n",
        "  return acc.item()\n",
        "\n",
        "\n",
        "@torch.no_grad()\n",
        "def get_probas_mcd(model, dl, num_samples=10, use_dropout=True): \n",
        "  # return the proabilities for samples using MC-dropout (unless use_dropout=False)\n",
        "  model.eval()\n",
        "  model.set_sample(use_dropout)\n",
        "  probs = []\n",
        "  for X, y in dl:\n",
        "    outs = [model(X) for x in range(num_samples)]\n",
        "    ps = [torch.softmax(out, dim=1) for out in outs]\n",
        "    mean_ps = torch.stack(ps).mean(dim=0)\n",
        "    probs.append(mean_ps)\n",
        "  probs = torch.cat(probs)\n",
        "  return probs\n",
        "\n",
        "\n",
        "@torch.no_grad()\n",
        "def get_probas_ensemble(models, dl): \n",
        "  for model in models:\n",
        "    model.eval()\n",
        "    model.set_sample(False)\n",
        "  probs = []\n",
        "  for X, y in dl:\n",
        "    outs = [model(X) for model in models]\n",
        "    ps = [torch.softmax(out, dim=1) for out in outs]\n",
        "    mean_ps = torch.stack(ps).mean(dim=0)\n",
        "    probs.append(mean_ps)\n",
        "  probs = torch.cat(probs)\n",
        "  return probs\n",
        "\n",
        "\n",
        "def plot_hist(probas):\n",
        "  fig, (ax) = plt.subplots(1,1,figsize=(3,3), dpi=110)\n",
        "\n",
        "  ax.grid()\n",
        "\n",
        "  ax.set_xlabel(\"largest probability\")\n",
        "  ax.set_ylabel(\"Number of datapoints\")\n",
        "\n",
        "  _ = ax.hist(probas, bins=[0,0.1,0.2,0.3,0.4,0.5,0.6,0.7,0.8,0.9,1], linestyle='solid', color='g')\n",
        "  ax.set_xlim(0, 1)"
      ]
    },
    {
      "cell_type": "markdown",
      "metadata": {
        "id": "l69yadXVg8XU"
      },
      "source": [
        "# Training utils"
      ]
    },
    {
      "cell_type": "code",
      "execution_count": 10,
      "metadata": {
        "id": "pijU4JqXg8gM"
      },
      "outputs": [],
      "source": [
        "def dl_to_sampler(dl):\n",
        "  dl_iter = iter(dl)\n",
        "  def sample():\n",
        "    nonlocal dl_iter\n",
        "    try:\n",
        "      return next(dl_iter)\n",
        "    except StopIteration:\n",
        "      dl_iter = iter(dl)\n",
        "      return next(dl_iter)\n",
        "  return sample\n",
        "\n",
        "\n",
        "def sequential_train(num_models, train_dl, valid_dl, perturb_dl, alpha=1, max_epoch=30,\n",
        "                     use_diversity_reg=True, lr=0.2, weight_decay=1e-5, dropout=0.2):\n",
        "  \n",
        "  models = [resnet18MCD(num_classes=5, dropout_p=dropout).to(DEVICE) for _ in range(num_models)]\n",
        "  \n",
        "  stats = {f\"m{i+1}\": {\"acc\": [], \"loss\": [], \"adv-loss\": []} for i in range(len(models))}\n",
        "\n",
        "  for m_idx, m in enumerate(models):\n",
        "\n",
        "    for m_ in models[:m_idx]:\n",
        "      m_.eval()\n",
        "      m.set_sample(False)\n",
        "\n",
        "    opt = torch.optim.SGD(m.parameters(), lr=lr, momentum=0.9, weight_decay=weight_decay, nesterov=True)\n",
        "    scheduler = torch.optim.lr_scheduler.CyclicLR(opt, 0, lr, step_size_up=(len(train_dl)*max_epoch)//2, mode='triangular', cycle_momentum=False)\n",
        "\n",
        "    perturb_sampler = dl_to_sampler(perturb_dl)\n",
        "\n",
        "    for epoch in range(max_epoch):\n",
        "      for itr, (x, y) in enumerate(train_dl):\n",
        "        (x_tilde,  _) = perturb_sampler()\n",
        "        erm_loss = F.cross_entropy(m(x), y)\n",
        "        \n",
        "        if use_diversity_reg and m_idx != 0:\n",
        "          adv_loss = []\n",
        "\n",
        "          p_2 = torch.softmax(m(x_tilde), dim=1)\n",
        "          p_2_1, max_idx = p_2.max(dim=1)\n",
        "          p_2_0 = 1. - p_2_1\n",
        "\n",
        "          with torch.no_grad():\n",
        "            p_1_s = [torch.softmax(m_(x_tilde), dim=1) for m_ in models[:m_idx]]\n",
        "            p_1_1_s = [p_1[torch.arange(len(p_1)), max_idx] for p_1 in p_1_s]\n",
        "            p_1_0_s = [1. - p_1_1 for p_1_1 in p_1_1_s]\n",
        "          \n",
        "          for i in range(len(p_1_s)):\n",
        "            al = (- torch.log(p_1_1_s[i] * p_2_0 + p_2_1 * p_1_0_s[i] +  1e-7)).mean()\n",
        "            adv_loss.append(al)\n",
        "        else:\n",
        "          adv_loss = [torch.tensor([0]).to(DEVICE)]\n",
        "\n",
        "        adv_loss = sum(adv_loss)/len(adv_loss)\n",
        "        loss = erm_loss + alpha * adv_loss\n",
        "\n",
        "        opt.zero_grad()\n",
        "        loss.backward()\n",
        "        opt.step()\n",
        "        scheduler.step()\n",
        "\n",
        "        if (itr + epoch * len(train_dl)) % 200 == 0:\n",
        "          itr_ = itr + epoch * len(train_dl)\n",
        "          print_str = f\"[m{m_idx+1}] {epoch}/{itr_} [train] loss: {erm_loss.item():.2f} adv-loss: {adv_loss.item():.2f} \"\n",
        "          stats[f\"m{m_idx+1}\"][\"loss\"].append((itr_, erm_loss.item()))\n",
        "          stats[f\"m{m_idx+1}\"][\"adv-loss\"].append((itr_, adv_loss.item()))\n",
        "          acc = get_acc(m, valid_dl)\n",
        "          stats[f\"m{m_idx+1}\"][\"acc\"].append((itr_, acc))\n",
        "          print_str += f\" acc: {acc:.2f} \"\n",
        "          if itr_ != 0 and scheduler is not None:\n",
        "            print_str += f\"[lr] {scheduler.get_last_lr()[0]:.5f} \"\n",
        "          print(print_str)\n",
        "        \n",
        "        itr += 1\n",
        "\n",
        "  stats['all_models'] = models\n",
        "\n",
        "  return stats"
      ]
    },
    {
      "cell_type": "markdown",
      "metadata": {
        "id": "57jMpcwaFSu-"
      },
      "source": [
        "# Train with D-BAT"
      ]
    },
    {
      "cell_type": "code",
      "execution_count": 17,
      "metadata": {
        "colab": {
          "base_uri": "https://localhost:8080/"
        },
        "id": "YJmkmGX3An9P",
        "outputId": "d0805661-c7c1-4385-cbb9-8a5c919a5ba7"
      },
      "outputs": [
        {
          "output_type": "stream",
          "name": "stdout",
          "text": [
            "[m1] 0/0 [train] loss: 1.67 adv-loss: 0.00  acc: 0.23 \n",
            "[m1] 2/200 [train] loss: 1.06 adv-loss: 0.00  acc: 0.27 [lr] 0.01523 \n",
            "[m1] 4/400 [train] loss: 0.79 adv-loss: 0.00  acc: 0.42 [lr] 0.03038 \n",
            "[m1] 6/600 [train] loss: 0.71 adv-loss: 0.00  acc: 0.57 [lr] 0.04553 \n",
            "[m1] 9/800 [train] loss: 0.55 adv-loss: 0.00  acc: 0.62 [lr] 0.06068 \n",
            "[m1] 11/1000 [train] loss: 0.53 adv-loss: 0.00  acc: 0.74 [lr] 0.07583 \n",
            "[m1] 13/1200 [train] loss: 0.37 adv-loss: 0.00  acc: 0.78 [lr] 0.09098 \n",
            "[m1] 15/1400 [train] loss: 0.37 adv-loss: 0.00  acc: 0.82 [lr] 0.10614 \n",
            "[m1] 18/1600 [train] loss: 0.22 adv-loss: 0.00  acc: 0.84 [lr] 0.12129 \n",
            "[m1] 20/1800 [train] loss: 0.18 adv-loss: 0.00  acc: 0.84 [lr] 0.13644 \n",
            "[m1] 22/2000 [train] loss: 0.22 adv-loss: 0.00  acc: 0.83 [lr] 0.15159 \n",
            "[m1] 25/2200 [train] loss: 0.15 adv-loss: 0.00  acc: 0.82 [lr] 0.16674 \n",
            "[m1] 27/2400 [train] loss: 0.14 adv-loss: 0.00  acc: 0.87 [lr] 0.18189 \n",
            "[m1] 29/2600 [train] loss: 0.12 adv-loss: 0.00  acc: 0.88 [lr] 0.19705 \n",
            "[m1] 31/2800 [train] loss: 0.12 adv-loss: 0.00  acc: 0.83 [lr] 0.18780 \n",
            "[m1] 34/3000 [train] loss: 0.06 adv-loss: 0.00  acc: 0.83 [lr] 0.17265 \n",
            "[m1] 36/3200 [train] loss: 0.07 adv-loss: 0.00  acc: 0.87 [lr] 0.15750 \n",
            "[m1] 38/3400 [train] loss: 0.06 adv-loss: 0.00  acc: 0.88 [lr] 0.14235 \n",
            "[m1] 40/3600 [train] loss: 0.06 adv-loss: 0.00  acc: 0.88 [lr] 0.12720 \n",
            "[m1] 43/3800 [train] loss: 0.07 adv-loss: 0.00  acc: 0.89 [lr] 0.11205 \n",
            "[m1] 45/4000 [train] loss: 0.03 adv-loss: 0.00  acc: 0.88 [lr] 0.09689 \n",
            "[m1] 47/4200 [train] loss: 0.02 adv-loss: 0.00  acc: 0.89 [lr] 0.08174 \n",
            "[m1] 50/4400 [train] loss: 0.02 adv-loss: 0.00  acc: 0.91 [lr] 0.06659 \n",
            "[m1] 52/4600 [train] loss: 0.02 adv-loss: 0.00  acc: 0.91 [lr] 0.05144 \n",
            "[m1] 54/4800 [train] loss: 0.00 adv-loss: 0.00  acc: 0.92 [lr] 0.03629 \n",
            "[m1] 56/5000 [train] loss: 0.00 adv-loss: 0.00  acc: 0.92 [lr] 0.02114 \n",
            "[m1] 59/5200 [train] loss: 0.00 adv-loss: 0.00  acc: 0.92 [lr] 0.00598 \n",
            "[m2] 0/0 [train] loss: 1.67 adv-loss: 1.03  acc: 0.19 \n",
            "[m2] 2/200 [train] loss: 1.06 adv-loss: 0.93  acc: 0.29 [lr] 0.01523 \n",
            "[m2] 4/400 [train] loss: 0.88 adv-loss: 0.83  acc: 0.48 [lr] 0.03038 \n",
            "[m2] 6/600 [train] loss: 0.82 adv-loss: 0.93  acc: 0.59 [lr] 0.04553 \n",
            "[m2] 9/800 [train] loss: 0.60 adv-loss: 0.63  acc: 0.64 [lr] 0.06068 \n",
            "[m2] 11/1000 [train] loss: 0.47 adv-loss: 0.42  acc: 0.74 [lr] 0.07583 \n",
            "[m2] 13/1200 [train] loss: 0.59 adv-loss: 1.08  acc: 0.64 [lr] 0.09098 \n",
            "[m2] 15/1400 [train] loss: 0.43 adv-loss: 0.24  acc: 0.62 [lr] 0.10614 \n",
            "[m2] 18/1600 [train] loss: 0.30 adv-loss: 0.26  acc: 0.79 [lr] 0.12129 \n",
            "[m2] 20/1800 [train] loss: 0.24 adv-loss: 0.33  acc: 0.80 [lr] 0.13644 \n",
            "[m2] 22/2000 [train] loss: 0.17 adv-loss: 0.04  acc: 0.85 [lr] 0.15159 \n",
            "[m2] 25/2200 [train] loss: 0.24 adv-loss: 0.44  acc: 0.74 [lr] 0.16674 \n",
            "[m2] 27/2400 [train] loss: 0.18 adv-loss: 0.13  acc: 0.67 [lr] 0.18189 \n",
            "[m2] 29/2600 [train] loss: 0.89 adv-loss: 0.96  acc: 0.59 [lr] 0.19705 \n",
            "[m2] 31/2800 [train] loss: 0.73 adv-loss: 0.42  acc: 0.64 [lr] 0.18780 \n",
            "[m2] 34/3000 [train] loss: 0.66 adv-loss: 0.34  acc: 0.62 [lr] 0.17265 \n",
            "[m2] 36/3200 [train] loss: 0.57 adv-loss: 0.51  acc: 0.54 [lr] 0.15750 \n",
            "[m2] 38/3400 [train] loss: 0.39 adv-loss: 0.16  acc: 0.56 [lr] 0.14235 \n",
            "[m2] 40/3600 [train] loss: 0.43 adv-loss: 0.37  acc: 0.65 [lr] 0.12720 \n",
            "[m2] 43/3800 [train] loss: 0.40 adv-loss: 0.34  acc: 0.56 [lr] 0.11205 \n",
            "[m2] 45/4000 [train] loss: 0.34 adv-loss: 0.12  acc: 0.59 [lr] 0.09689 \n",
            "[m2] 47/4200 [train] loss: 0.22 adv-loss: 0.09  acc: 0.67 [lr] 0.08174 \n",
            "[m2] 50/4400 [train] loss: 0.25 adv-loss: 0.08  acc: 0.61 [lr] 0.06659 \n",
            "[m2] 52/4600 [train] loss: 0.17 adv-loss: 0.07  acc: 0.60 [lr] 0.05144 \n",
            "[m2] 54/4800 [train] loss: 0.16 adv-loss: 0.06  acc: 0.82 [lr] 0.03629 \n",
            "[m2] 56/5000 [train] loss: 0.10 adv-loss: 0.05  acc: 0.75 [lr] 0.02114 \n",
            "[m2] 59/5200 [train] loss: 0.04 adv-loss: 0.06  acc: 0.74 [lr] 0.00598 \n",
            "[m3] 0/0 [train] loss: 1.72 adv-loss: 0.97  acc: 0.20 \n",
            "[m3] 2/200 [train] loss: 1.12 adv-loss: 0.77  acc: 0.30 [lr] 0.01523 \n",
            "[m3] 4/400 [train] loss: 0.89 adv-loss: 0.87  acc: 0.40 [lr] 0.03038 \n",
            "[m3] 6/600 [train] loss: 0.80 adv-loss: 0.89  acc: 0.53 [lr] 0.04553 \n",
            "[m3] 9/800 [train] loss: 0.58 adv-loss: 0.89  acc: 0.67 [lr] 0.06068 \n",
            "[m3] 11/1000 [train] loss: 0.67 adv-loss: 1.04  acc: 0.77 [lr] 0.07583 \n",
            "[m3] 13/1200 [train] loss: 0.41 adv-loss: 0.30  acc: 0.76 [lr] 0.09098 \n",
            "[m3] 15/1400 [train] loss: 0.27 adv-loss: 0.33  acc: 0.77 [lr] 0.10614 \n",
            "[m3] 18/1600 [train] loss: 0.20 adv-loss: 0.11  acc: 0.83 [lr] 0.12129 \n",
            "[m3] 20/1800 [train] loss: 1.21 adv-loss: 0.81  acc: 0.49 [lr] 0.13644 \n",
            "[m3] 22/2000 [train] loss: 0.89 adv-loss: 0.82  acc: 0.56 [lr] 0.15159 \n",
            "[m3] 25/2200 [train] loss: 0.82 adv-loss: 0.80  acc: 0.62 [lr] 0.16674 \n",
            "[m3] 27/2400 [train] loss: 0.60 adv-loss: 0.81  acc: 0.72 [lr] 0.18189 \n",
            "[m3] 29/2600 [train] loss: 0.70 adv-loss: 0.75  acc: 0.72 [lr] 0.19705 \n",
            "[m3] 31/2800 [train] loss: 0.50 adv-loss: 0.67  acc: 0.77 [lr] 0.18780 \n",
            "[m3] 34/3000 [train] loss: 0.33 adv-loss: 0.36  acc: 0.79 [lr] 0.17265 \n",
            "[m3] 36/3200 [train] loss: 0.36 adv-loss: 0.13  acc: 0.70 [lr] 0.15750 \n",
            "[m3] 38/3400 [train] loss: 0.63 adv-loss: 0.95  acc: 0.32 [lr] 0.14235 \n",
            "[m3] 40/3600 [train] loss: 0.24 adv-loss: 0.18  acc: 0.63 [lr] 0.12720 \n",
            "[m3] 43/3800 [train] loss: 0.21 adv-loss: 0.13  acc: 0.86 [lr] 0.11205 \n",
            "[m3] 45/4000 [train] loss: 0.19 adv-loss: 0.09  acc: 0.86 [lr] 0.09689 \n",
            "[m3] 47/4200 [train] loss: 0.13 adv-loss: 0.11  acc: 0.85 [lr] 0.08174 \n",
            "[m3] 50/4400 [train] loss: 0.21 adv-loss: 0.92  acc: 0.82 [lr] 0.06659 \n",
            "[m3] 52/4600 [train] loss: 0.05 adv-loss: 0.08  acc: 0.89 [lr] 0.05144 \n",
            "[m3] 54/4800 [train] loss: 0.11 adv-loss: 0.07  acc: 0.78 [lr] 0.03629 \n",
            "[m3] 56/5000 [train] loss: 0.03 adv-loss: 0.07  acc: 0.87 [lr] 0.02114 \n",
            "[m3] 59/5200 [train] loss: 0.01 adv-loss: 0.06  acc: 0.80 [lr] 0.00598 \n",
            "[m4] 0/0 [train] loss: 1.72 adv-loss: 0.87  acc: 0.21 \n",
            "[m4] 2/200 [train] loss: 1.06 adv-loss: 0.78  acc: 0.34 [lr] 0.01523 \n",
            "[m4] 6/600 [train] loss: 0.68 adv-loss: 0.82  acc: 0.48 [lr] 0.04553 \n",
            "[m4] 9/800 [train] loss: 0.61 adv-loss: 0.79  acc: 0.59 [lr] 0.06068 \n",
            "[m4] 11/1000 [train] loss: 0.42 adv-loss: 0.52  acc: 0.75 [lr] 0.07583 \n",
            "[m4] 13/1200 [train] loss: 0.35 adv-loss: 0.48  acc: 0.67 [lr] 0.09098 \n",
            "[m4] 15/1400 [train] loss: 0.37 adv-loss: 0.39  acc: 0.55 [lr] 0.10614 \n",
            "[m4] 18/1600 [train] loss: 0.23 adv-loss: 0.16  acc: 0.83 [lr] 0.12129 \n",
            "[m4] 20/1800 [train] loss: 0.27 adv-loss: 0.31  acc: 0.76 [lr] 0.13644 \n",
            "[m4] 22/2000 [train] loss: 0.72 adv-loss: 0.89  acc: 0.74 [lr] 0.15159 \n",
            "[m4] 25/2200 [train] loss: 0.23 adv-loss: 0.37  acc: 0.83 [lr] 0.16674 \n",
            "[m4] 27/2400 [train] loss: 0.13 adv-loss: 0.17  acc: 0.85 [lr] 0.18189 \n",
            "[m4] 29/2600 [train] loss: 0.46 adv-loss: 0.90  acc: 0.78 [lr] 0.19705 \n",
            "[m4] 31/2800 [train] loss: 0.56 adv-loss: 0.41  acc: 0.43 [lr] 0.18780 \n",
            "[m4] 34/3000 [train] loss: 0.22 adv-loss: 0.23  acc: 0.79 [lr] 0.17265 \n",
            "[m4] 36/3200 [train] loss: 0.19 adv-loss: 0.23  acc: 0.86 [lr] 0.15750 \n",
            "[m4] 38/3400 [train] loss: 0.11 adv-loss: 0.09  acc: 0.84 [lr] 0.14235 \n",
            "[m4] 40/3600 [train] loss: 0.18 adv-loss: 0.06  acc: 0.83 [lr] 0.12720 \n",
            "[m4] 43/3800 [train] loss: 0.08 adv-loss: 0.05  acc: 0.87 [lr] 0.11205 \n",
            "[m4] 45/4000 [train] loss: 1.04 adv-loss: 0.78  acc: 0.45 [lr] 0.09689 \n",
            "[m4] 47/4200 [train] loss: 1.06 adv-loss: 0.71  acc: 0.60 [lr] 0.08174 \n",
            "[m4] 50/4400 [train] loss: 0.66 adv-loss: 0.77  acc: 0.69 [lr] 0.06659 \n",
            "[m4] 52/4600 [train] loss: 0.61 adv-loss: 0.71  acc: 0.68 [lr] 0.05144 \n",
            "[m4] 54/4800 [train] loss: 0.63 adv-loss: 0.74  acc: 0.64 [lr] 0.03629 \n",
            "[m4] 56/5000 [train] loss: 0.55 adv-loss: 0.47  acc: 0.62 [lr] 0.02114 \n",
            "[m4] 59/5200 [train] loss: 0.54 adv-loss: 0.33  acc: 0.52 [lr] 0.00598 \n"
          ]
        }
      ],
      "source": [
        "stats = sequential_train(4, train_dl, valid_dl, perturb_dl, alpha=0.2, \n",
        "                         max_epoch=60, use_diversity_reg=True, lr=0.2, \n",
        "                         weight_decay=5e-4, dropout=0.2)"
      ]
    },
    {
      "cell_type": "code",
      "execution_count": 18,
      "metadata": {
        "id": "GakDcqXrk6Vj",
        "colab": {
          "base_uri": "https://localhost:8080/"
        },
        "outputId": "71699371-a563-4797-b359-cce77b0d380c"
      },
      "outputs": [
        {
          "output_type": "execute_result",
          "data": {
            "text/plain": [
              "0.9197999835014343"
            ]
          },
          "metadata": {},
          "execution_count": 18
        }
      ],
      "source": [
        "get_ensemble_acc(stats['all_models'], test_dl)"
      ]
    },
    {
      "cell_type": "code",
      "execution_count": 19,
      "metadata": {
        "id": "_YIXE2ynGIJY",
        "colab": {
          "base_uri": "https://localhost:8080/",
          "height": 334
        },
        "outputId": "eb329880-6896-40f8-b574-842480f4fb21"
      },
      "outputs": [
        {
          "output_type": "display_data",
          "data": {
            "image/png": "[encoded data removed]",
            "text/plain": [
              "<Figure size 330x330 with 1 Axes>"
            ]
          },
          "metadata": {
            "needs_background": "light"
          }
        }
      ],
      "source": [
        "probas_ensemble_c100 = get_probas_ensemble(stats['all_models'], test_dl_c100)\n",
        "probas_ensemble_c100 = probas_ensemble_c100.max(dim=1).values.cpu().numpy()\n",
        "plot_hist(probas_ensemble_c100)"
      ]
    },
    {
      "cell_type": "markdown",
      "metadata": {
        "id": "0MufsVxnHUoF"
      },
      "source": [
        "# Train without D-BAT"
      ]
    },
    {
      "cell_type": "code",
      "execution_count": 20,
      "metadata": {
        "id": "8ed2mCcGGIMR",
        "colab": {
          "base_uri": "https://localhost:8080/"
        },
        "outputId": "c3026e78-a7a3-4ba5-bbbd-2adfd28e90ac"
      },
      "outputs": [
        {
          "output_type": "stream",
          "name": "stdout",
          "text": [
            "[m1] 0/0 [train] loss: 1.86 adv-loss: 0.00  acc: 0.21 \n",
            "[m1] 2/200 [train] loss: 1.02 adv-loss: 0.00  acc: 0.23 [lr] 0.01523 \n",
            "[m1] 4/400 [train] loss: 0.86 adv-loss: 0.00  acc: 0.42 [lr] 0.03038 \n",
            "[m1] 6/600 [train] loss: 0.71 adv-loss: 0.00  acc: 0.59 [lr] 0.04553 \n",
            "[m1] 9/800 [train] loss: 0.60 adv-loss: 0.00  acc: 0.74 [lr] 0.06068 \n",
            "[m1] 11/1000 [train] loss: 0.51 adv-loss: 0.00  acc: 0.69 [lr] 0.07583 \n",
            "[m1] 13/1200 [train] loss: 0.33 adv-loss: 0.00  acc: 0.72 [lr] 0.09098 \n",
            "[m1] 15/1400 [train] loss: 0.39 adv-loss: 0.00  acc: 0.76 [lr] 0.10614 \n",
            "[m1] 18/1600 [train] loss: 0.24 adv-loss: 0.00  acc: 0.87 [lr] 0.12129 \n",
            "[m1] 20/1800 [train] loss: 0.17 adv-loss: 0.00  acc: 0.86 [lr] 0.13644 \n",
            "[m1] 22/2000 [train] loss: 0.16 adv-loss: 0.00  acc: 0.86 [lr] 0.15159 \n",
            "[m1] 25/2200 [train] loss: 0.11 adv-loss: 0.00  acc: 0.87 [lr] 0.16674 \n",
            "[m1] 27/2400 [train] loss: 0.12 adv-loss: 0.00  acc: 0.88 [lr] 0.18189 \n",
            "[m1] 29/2600 [train] loss: 0.07 adv-loss: 0.00  acc: 0.89 [lr] 0.19705 \n",
            "[m1] 31/2800 [train] loss: 0.07 adv-loss: 0.00  acc: 0.88 [lr] 0.18780 \n",
            "[m1] 34/3000 [train] loss: 0.04 adv-loss: 0.00  acc: 0.87 [lr] 0.17265 \n",
            "[m1] 36/3200 [train] loss: 0.04 adv-loss: 0.00  acc: 0.89 [lr] 0.15750 \n",
            "[m1] 38/3400 [train] loss: 0.03 adv-loss: 0.00  acc: 0.90 [lr] 0.14235 \n",
            "[m1] 40/3600 [train] loss: 0.01 adv-loss: 0.00  acc: 0.89 [lr] 0.12720 \n",
            "[m1] 43/3800 [train] loss: 0.01 adv-loss: 0.00  acc: 0.91 [lr] 0.11205 \n",
            "[m1] 45/4000 [train] loss: 0.00 adv-loss: 0.00  acc: 0.91 [lr] 0.09689 \n",
            "[m1] 47/4200 [train] loss: 0.01 adv-loss: 0.00  acc: 0.91 [lr] 0.08174 \n",
            "[m1] 50/4400 [train] loss: 0.01 adv-loss: 0.00  acc: 0.91 [lr] 0.06659 \n",
            "[m1] 52/4600 [train] loss: 0.01 adv-loss: 0.00  acc: 0.91 [lr] 0.05144 \n",
            "[m1] 54/4800 [train] loss: 0.00 adv-loss: 0.00  acc: 0.91 [lr] 0.03629 \n",
            "[m1] 56/5000 [train] loss: 0.00 adv-loss: 0.00  acc: 0.92 [lr] 0.02114 \n",
            "[m1] 59/5200 [train] loss: 0.00 adv-loss: 0.00  acc: 0.92 [lr] 0.00598 \n",
            "[m2] 0/0 [train] loss: 1.64 adv-loss: 0.00  acc: 0.21 \n",
            "[m2] 2/200 [train] loss: 1.08 adv-loss: 0.00  acc: 0.23 [lr] 0.01523 \n",
            "[m2] 4/400 [train] loss: 0.83 adv-loss: 0.00  acc: 0.59 [lr] 0.03038 \n",
            "[m2] 6/600 [train] loss: 0.83 adv-loss: 0.00  acc: 0.65 [lr] 0.04553 \n",
            "[m2] 9/800 [train] loss: 0.65 adv-loss: 0.00  acc: 0.53 [lr] 0.06068 \n",
            "[m2] 11/1000 [train] loss: 0.40 adv-loss: 0.00  acc: 0.77 [lr] 0.07583 \n",
            "[m2] 13/1200 [train] loss: 0.32 adv-loss: 0.00  acc: 0.84 [lr] 0.09098 \n",
            "[m2] 15/1400 [train] loss: 0.32 adv-loss: 0.00  acc: 0.82 [lr] 0.10614 \n",
            "[m2] 18/1600 [train] loss: 0.15 adv-loss: 0.00  acc: 0.83 [lr] 0.12129 \n",
            "[m2] 20/1800 [train] loss: 0.22 adv-loss: 0.00  acc: 0.84 [lr] 0.13644 \n",
            "[m2] 22/2000 [train] loss: 0.21 adv-loss: 0.00  acc: 0.83 [lr] 0.15159 \n",
            "[m2] 25/2200 [train] loss: 0.10 adv-loss: 0.00  acc: 0.86 [lr] 0.16674 \n",
            "[m2] 27/2400 [train] loss: 0.10 adv-loss: 0.00  acc: 0.88 [lr] 0.18189 \n",
            "[m2] 29/2600 [train] loss: 0.12 adv-loss: 0.00  acc: 0.86 [lr] 0.19705 \n",
            "[m2] 31/2800 [train] loss: 0.08 adv-loss: 0.00  acc: 0.89 [lr] 0.18780 \n",
            "[m2] 34/3000 [train] loss: 0.03 adv-loss: 0.00  acc: 0.89 [lr] 0.17265 \n",
            "[m2] 36/3200 [train] loss: 0.02 adv-loss: 0.00  acc: 0.89 [lr] 0.15750 \n",
            "[m2] 38/3400 [train] loss: 0.03 adv-loss: 0.00  acc: 0.89 [lr] 0.14235 \n",
            "[m2] 40/3600 [train] loss: 0.02 adv-loss: 0.00  acc: 0.90 [lr] 0.12720 \n",
            "[m2] 43/3800 [train] loss: 0.00 adv-loss: 0.00  acc: 0.91 [lr] 0.11205 \n",
            "[m2] 45/4000 [train] loss: 0.00 adv-loss: 0.00  acc: 0.91 [lr] 0.09689 \n",
            "[m2] 47/4200 [train] loss: 0.00 adv-loss: 0.00  acc: 0.90 [lr] 0.08174 \n",
            "[m2] 50/4400 [train] loss: 0.01 adv-loss: 0.00  acc: 0.91 [lr] 0.06659 \n",
            "[m2] 52/4600 [train] loss: 0.00 adv-loss: 0.00  acc: 0.91 [lr] 0.05144 \n",
            "[m2] 54/4800 [train] loss: 0.01 adv-loss: 0.00  acc: 0.91 [lr] 0.03629 \n",
            "[m2] 56/5000 [train] loss: 0.01 adv-loss: 0.00  acc: 0.92 [lr] 0.02114 \n",
            "[m2] 59/5200 [train] loss: 0.00 adv-loss: 0.00  acc: 0.92 [lr] 0.00598 \n",
            "[m3] 0/0 [train] loss: 1.71 adv-loss: 0.00  acc: 0.20 \n",
            "[m3] 2/200 [train] loss: 1.14 adv-loss: 0.00  acc: 0.25 [lr] 0.01523 \n",
            "[m3] 4/400 [train] loss: 0.84 adv-loss: 0.00  acc: 0.56 [lr] 0.03038 \n",
            "[m3] 6/600 [train] loss: 0.77 adv-loss: 0.00  acc: 0.67 [lr] 0.04553 \n",
            "[m3] 9/800 [train] loss: 0.60 adv-loss: 0.00  acc: 0.60 [lr] 0.06068 \n",
            "[m3] 11/1000 [train] loss: 0.50 adv-loss: 0.00  acc: 0.79 [lr] 0.07583 \n",
            "[m3] 13/1200 [train] loss: 0.39 adv-loss: 0.00  acc: 0.83 [lr] 0.09098 \n",
            "[m3] 15/1400 [train] loss: 0.27 adv-loss: 0.00  acc: 0.78 [lr] 0.10614 \n",
            "[m3] 18/1600 [train] loss: 0.23 adv-loss: 0.00  acc: 0.84 [lr] 0.12129 \n",
            "[m3] 20/1800 [train] loss: 0.25 adv-loss: 0.00  acc: 0.85 [lr] 0.13644 \n",
            "[m3] 22/2000 [train] loss: 0.17 adv-loss: 0.00  acc: 0.84 [lr] 0.15159 \n",
            "[m3] 25/2200 [train] loss: 0.13 adv-loss: 0.00  acc: 0.89 [lr] 0.16674 \n",
            "[m3] 27/2400 [train] loss: 0.07 adv-loss: 0.00  acc: 0.87 [lr] 0.18189 \n",
            "[m3] 29/2600 [train] loss: 0.15 adv-loss: 0.00  acc: 0.87 [lr] 0.19705 \n",
            "[m3] 31/2800 [train] loss: 0.08 adv-loss: 0.00  acc: 0.88 [lr] 0.18780 \n",
            "[m3] 34/3000 [train] loss: 0.06 adv-loss: 0.00  acc: 0.89 [lr] 0.17265 \n",
            "[m3] 36/3200 [train] loss: 0.04 adv-loss: 0.00  acc: 0.89 [lr] 0.15750 \n",
            "[m3] 38/3400 [train] loss: 0.01 adv-loss: 0.00  acc: 0.90 [lr] 0.14235 \n",
            "[m3] 40/3600 [train] loss: 0.01 adv-loss: 0.00  acc: 0.90 [lr] 0.12720 \n",
            "[m3] 43/3800 [train] loss: 0.00 adv-loss: 0.00  acc: 0.90 [lr] 0.11205 \n",
            "[m3] 45/4000 [train] loss: 0.02 adv-loss: 0.00  acc: 0.90 [lr] 0.09689 \n",
            "[m3] 47/4200 [train] loss: 0.01 adv-loss: 0.00  acc: 0.91 [lr] 0.08174 \n",
            "[m3] 50/4400 [train] loss: 0.00 adv-loss: 0.00  acc: 0.91 [lr] 0.06659 \n",
            "[m3] 52/4600 [train] loss: 0.01 adv-loss: 0.00  acc: 0.91 [lr] 0.05144 \n",
            "[m3] 54/4800 [train] loss: 0.00 adv-loss: 0.00  acc: 0.91 [lr] 0.03629 \n",
            "[m3] 56/5000 [train] loss: 0.00 adv-loss: 0.00  acc: 0.92 [lr] 0.02114 \n",
            "[m4] 0/0 [train] loss: 1.69 adv-loss: 0.00  acc: 0.22 \n",
            "[m4] 2/200 [train] loss: 1.00 adv-loss: 0.00  acc: 0.30 [lr] 0.01523 \n",
            "[m4] 4/400 [train] loss: 1.01 adv-loss: 0.00  acc: 0.55 [lr] 0.03038 \n",
            "[m4] 6/600 [train] loss: 0.64 adv-loss: 0.00  acc: 0.52 [lr] 0.04553 \n",
            "[m4] 9/800 [train] loss: 0.56 adv-loss: 0.00  acc: 0.66 [lr] 0.06068 \n",
            "[m4] 11/1000 [train] loss: 0.45 adv-loss: 0.00  acc: 0.80 [lr] 0.07583 \n",
            "[m4] 13/1200 [train] loss: 0.41 adv-loss: 0.00  acc: 0.79 [lr] 0.09098 \n",
            "[m4] 15/1400 [train] loss: 0.32 adv-loss: 0.00  acc: 0.83 [lr] 0.10614 \n",
            "[m4] 18/1600 [train] loss: 0.19 adv-loss: 0.00  acc: 0.80 [lr] 0.12129 \n",
            "[m4] 20/1800 [train] loss: 0.26 adv-loss: 0.00  acc: 0.83 [lr] 0.13644 \n",
            "[m4] 22/2000 [train] loss: 0.17 adv-loss: 0.00  acc: 0.88 [lr] 0.15159 \n",
            "[m4] 27/2400 [train] loss: 0.11 adv-loss: 0.00  acc: 0.88 [lr] 0.18189 \n",
            "[m4] 29/2600 [train] loss: 0.10 adv-loss: 0.00  acc: 0.86 [lr] 0.19705 \n",
            "[m4] 31/2800 [train] loss: 0.09 adv-loss: 0.00  acc: 0.87 [lr] 0.18780 \n",
            "[m4] 34/3000 [train] loss: 0.04 adv-loss: 0.00  acc: 0.88 [lr] 0.17265 \n",
            "[m4] 36/3200 [train] loss: 0.06 adv-loss: 0.00  acc: 0.89 [lr] 0.15750 \n",
            "[m4] 38/3400 [train] loss: 0.01 adv-loss: 0.00  acc: 0.90 [lr] 0.14235 \n",
            "[m4] 40/3600 [train] loss: 0.03 adv-loss: 0.00  acc: 0.90 [lr] 0.12720 \n",
            "[m4] 43/3800 [train] loss: 0.01 adv-loss: 0.00  acc: 0.90 [lr] 0.11205 \n",
            "[m4] 45/4000 [train] loss: 0.01 adv-loss: 0.00  acc: 0.91 [lr] 0.09689 \n",
            "[m4] 47/4200 [train] loss: 0.00 adv-loss: 0.00  acc: 0.90 [lr] 0.08174 \n",
            "[m4] 50/4400 [train] loss: 0.00 adv-loss: 0.00  acc: 0.91 [lr] 0.06659 \n",
            "[m4] 52/4600 [train] loss: 0.00 adv-loss: 0.00  acc: 0.91 [lr] 0.05144 \n",
            "[m4] 54/4800 [train] loss: 0.03 adv-loss: 0.00  acc: 0.91 [lr] 0.03629 \n",
            "[m4] 56/5000 [train] loss: 0.00 adv-loss: 0.00  acc: 0.91 [lr] 0.02114 \n",
            "[m4] 59/5200 [train] loss: 0.00 adv-loss: 0.00  acc: 0.91 [lr] 0.00598 \n"
          ]
        }
      ],
      "source": [
        "stats = sequential_train(4, train_dl, valid_dl, perturb_dl, alpha=0.0, \n",
        "                         max_epoch=60, use_diversity_reg=False, lr=0.2, \n",
        "                         weight_decay=1e-5, dropout=0.2)"
      ]
    },
    {
      "cell_type": "markdown",
      "metadata": {
        "id": "f2BLOE_YHnbG"
      },
      "source": [
        "## Test without MC-Dropout (deep ensemble)"
      ]
    },
    {
      "cell_type": "code",
      "execution_count": 21,
      "metadata": {
        "id": "8N1xEQifGIQa",
        "colab": {
          "base_uri": "https://localhost:8080/"
        },
        "outputId": "30bf12bc-e8b0-44e7-e560-5ce66690904f"
      },
      "outputs": [
        {
          "output_type": "execute_result",
          "data": {
            "text/plain": [
              "0.9143999814987183"
            ]
          },
          "metadata": {},
          "execution_count": 21
        }
      ],
      "source": [
        "get_ensemble_acc(stats['all_models'], test_dl)"
      ]
    },
    {
      "cell_type": "code",
      "execution_count": 22,
      "metadata": {
        "id": "EXAImSbmHdpk",
        "colab": {
          "base_uri": "https://localhost:8080/",
          "height": 334
        },
        "outputId": "44f15a67-17fb-4da4-ff52-19bd82420194"
      },
      "outputs": [
        {
          "output_type": "display_data",
          "data": {
            "image/png": "[encoded data removed]",
            "text/plain": [
              "<Figure size 330x330 with 1 Axes>"
            ]
          },
          "metadata": {
            "needs_background": "light"
          }
        }
      ],
      "source": [
        "probas_ensemble_c100 = get_probas_ensemble(stats['all_models'], test_dl_c100)\n",
        "probas_ensemble_c100 = probas_ensemble_c100.max(dim=1).values.cpu().numpy()\n",
        "plot_hist(probas_ensemble_c100)"
      ]
    },
    {
      "cell_type": "markdown",
      "metadata": {
        "id": "fCRHeiwpHqld"
      },
      "source": [
        "## Test with MC-Dropout"
      ]
    },
    {
      "cell_type": "code",
      "execution_count": 23,
      "metadata": {
        "colab": {
          "base_uri": "https://localhost:8080/",
          "height": 1000
        },
        "id": "GRvJZ1IsOqxb",
        "outputId": "5a2f95bf-f81b-44bd-8c66-6b8f47417363"
      },
      "outputs": [
        {
          "output_type": "stream",
          "name": "stdout",
          "text": [
            "Accuracy: 0.902999997138977\n",
            "Accuracy: 0.9081999659538269\n",
            "Accuracy: 0.9053999781608582\n",
            "Accuracy: 0.9016000032424927\n"
          ]
        },
        {
          "output_type": "display_data",
          "data": {
            "image/png": "[encoded data removed]",
            "text/plain": [
              "<Figure size 330x330 with 1 Axes>"
            ]
          },
          "metadata": {
            "needs_background": "light"
          }
        },
        {
          "output_type": "display_data",
          "data": {
            "image/png": "[encoded data removed]",
            "text/plain": [
              "<Figure size 330x330 with 1 Axes>"
            ]
          },
          "metadata": {
            "needs_background": "light"
          }
        },
        {
          "output_type": "display_data",
          "data": {
            "image/png": "[encoded data removed]",
            "text/plain": [
              "<Figure size 330x330 with 1 Axes>"
            ]
          },
          "metadata": {
            "needs_background": "light"
          }
        },
        {
          "output_type": "display_data",
          "data": {
            "image/png": "[encoded data removed]",
            "text/plain": [
              "<Figure size 330x330 with 1 Axes>"
            ]
          },
          "metadata": {
            "needs_background": "light"
          }
        }
      ],
      "source": [
        "Y = torch.cat([x[1] for x in test_dl])\n",
        "\n",
        "for i in range(4):\n",
        "  probas = get_probas_mcd(stats['all_models'][i], test_dl, num_samples=20, use_dropout=True)\n",
        "  probas_mcd_c100 = probas.max(dim=1).values.cpu().numpy()\n",
        "  plot_hist(probas_mcd_c100)\n",
        "\n",
        "  acc = torch.argmax(probas, dim=1) == Y\n",
        "  print(\"Accuracy:\", acc.float().mean().item())"
      ]
    },
    {
      "cell_type": "code",
      "execution_count": null,
      "metadata": {
        "id": "GydwgtJjJAma"
      },
      "outputs": [],
      "source": [
        ""
      ]
    }
  ],
  "metadata": {
    "accelerator": "GPU",
    "colab": {
      "collapsed_sections": [],
      "machine_shape": "hm",
      "name": "D-BAT-CIFAR10-OOD-CIFAR100-MCDropout.ipynb",
      "provenance": [],
      "toc_visible": true
    },
    "kernelspec": {
      "display_name": "Python 3",
      "name": "python3"
    },
    "language_info": {
      "name": "python"
    },
    "widgets": {
      "application/vnd.jupyter.widget-state+json": {
        "bd0faad41ce049fdbc7f801a9c89785c": {
          "model_module": "@jupyter-widgets/controls",
          "model_name": "HBoxModel",
          "model_module_version": "1.5.0",
          "state": {
            "_view_name": "HBoxView",
            "_dom_classes": [],
            "_model_name": "HBoxModel",
            "_view_module": "@jupyter-widgets/controls",
            "_model_module_version": "1.5.0",
            "_view_count": null,
            "_view_module_version": "1.5.0",
            "box_style": "",
            "layout": "IPY_MODEL_d30304fb260f4f61abf0c2a17eafa1c2",
            "_model_module": "@jupyter-widgets/controls",
            "children": [
              "IPY_MODEL_225d4297b36242bc8df30c695a2d85cc",
              "IPY_MODEL_7fe3728975ef4cefbb60ef6ef6978ba2",
              "IPY_MODEL_4829f3da6a294e90b51ed83d04ae1d4a"
            ]
          }
        },
        "d30304fb260f4f61abf0c2a17eafa1c2": {
          "model_module": "@jupyter-widgets/base",
          "model_name": "LayoutModel",
          "model_module_version": "1.2.0",
          "state": {
            "_view_name": "LayoutView",
            "grid_template_rows": null,
            "right": null,
            "justify_content": null,
            "_view_module": "@jupyter-widgets/base",
            "overflow": null,
            "_model_module_version": "1.2.0",
            "_view_count": null,
            "flex_flow": null,
            "width": null,
            "min_width": null,
            "border": null,
            "align_items": null,
            "bottom": null,
            "_model_module": "@jupyter-widgets/base",
            "top": null,
            "grid_column": null,
            "overflow_y": null,
            "overflow_x": null,
            "grid_auto_flow": null,
            "grid_area": null,
            "grid_template_columns": null,
            "flex": null,
            "_model_name": "LayoutModel",
            "justify_items": null,
            "grid_row": null,
            "max_height": null,
            "align_content": null,
            "visibility": null,
            "align_self": null,
            "height": null,
            "min_height": null,
            "padding": null,
            "grid_auto_rows": null,
            "grid_gap": null,
            "max_width": null,
            "order": null,
            "_view_module_version": "1.2.0",
            "grid_template_areas": null,
            "object_position": null,
            "object_fit": null,
            "grid_auto_columns": null,
            "margin": null,
            "display": null,
            "left": null
          }
        },
        "225d4297b36242bc8df30c695a2d85cc": {
          "model_module": "@jupyter-widgets/controls",
          "model_name": "HTMLModel",
          "model_module_version": "1.5.0",
          "state": {
            "_view_name": "HTMLView",
            "style": "IPY_MODEL_eda472b22b0a4c4e8a7d4913321ed5e3",
            "_dom_classes": [],
            "description": "",
            "_model_name": "HTMLModel",
            "placeholder": "​",
            "_view_module": "@jupyter-widgets/controls",
            "_model_module_version": "1.5.0",
            "value": "",
            "_view_count": null,
            "_view_module_version": "1.5.0",
            "description_tooltip": null,
            "_model_module": "@jupyter-widgets/controls",
            "layout": "IPY_MODEL_69593f4167014741a2914d8abbf33efd"
          }
        },
        "7fe3728975ef4cefbb60ef6ef6978ba2": {
          "model_module": "@jupyter-widgets/controls",
          "model_name": "FloatProgressModel",
          "model_module_version": "1.5.0",
          "state": {
            "_view_name": "ProgressView",
            "style": "IPY_MODEL_1761356c650c4bf180c36ce71a46f2be",
            "_dom_classes": [],
            "description": "",
            "_model_name": "FloatProgressModel",
            "bar_style": "success",
            "max": 170498071,
            "_view_module": "@jupyter-widgets/controls",
            "_model_module_version": "1.5.0",
            "value": 170498071,
            "_view_count": null,
            "_view_module_version": "1.5.0",
            "orientation": "horizontal",
            "min": 0,
            "description_tooltip": null,
            "_model_module": "@jupyter-widgets/controls",
            "layout": "IPY_MODEL_d34095c321fa4f929f619b10af03c122"
          }
        },
        "4829f3da6a294e90b51ed83d04ae1d4a": {
          "model_module": "@jupyter-widgets/controls",
          "model_name": "HTMLModel",
          "model_module_version": "1.5.0",
          "state": {
            "_view_name": "HTMLView",
            "style": "IPY_MODEL_91ffdcfc6b9a408db2c5c704fb117e00",
            "_dom_classes": [],
            "description": "",
            "_model_name": "HTMLModel",
            "placeholder": "​",
            "_view_module": "@jupyter-widgets/controls",
            "_model_module_version": "1.5.0",
            "value": " 170499072/? [00:11&lt;00:00, 17345623.05it/s]",
            "_view_count": null,
            "_view_module_version": "1.5.0",
            "description_tooltip": null,
            "_model_module": "@jupyter-widgets/controls",
            "layout": "IPY_MODEL_80d53c4cfe3d4b80a7f9dd5a76f49f29"
          }
        },
        "eda472b22b0a4c4e8a7d4913321ed5e3": {
          "model_module": "@jupyter-widgets/controls",
          "model_name": "DescriptionStyleModel",
          "model_module_version": "1.5.0",
          "state": {
            "_view_name": "StyleView",
            "_model_name": "DescriptionStyleModel",
            "description_width": "",
            "_view_module": "@jupyter-widgets/base",
            "_model_module_version": "1.5.0",
            "_view_count": null,
            "_view_module_version": "1.2.0",
            "_model_module": "@jupyter-widgets/controls"
          }
        },
        "69593f4167014741a2914d8abbf33efd": {
          "model_module": "@jupyter-widgets/base",
          "model_name": "LayoutModel",
          "model_module_version": "1.2.0",
          "state": {
            "_view_name": "LayoutView",
            "grid_template_rows": null,
            "right": null,
            "justify_content": null,
            "_view_module": "@jupyter-widgets/base",
            "overflow": null,
            "_model_module_version": "1.2.0",
            "_view_count": null,
            "flex_flow": null,
            "width": null,
            "min_width": null,
            "border": null,
            "align_items": null,
            "bottom": null,
            "_model_module": "@jupyter-widgets/base",
            "top": null,
            "grid_column": null,
            "overflow_y": null,
            "overflow_x": null,
            "grid_auto_flow": null,
            "grid_area": null,
            "grid_template_columns": null,
            "flex": null,
            "_model_name": "LayoutModel",
            "justify_items": null,
            "grid_row": null,
            "max_height": null,
            "align_content": null,
            "visibility": null,
            "align_self": null,
            "height": null,
            "min_height": null,
            "padding": null,
            "grid_auto_rows": null,
            "grid_gap": null,
            "max_width": null,
            "order": null,
            "_view_module_version": "1.2.0",
            "grid_template_areas": null,
            "object_position": null,
            "object_fit": null,
            "grid_auto_columns": null,
            "margin": null,
            "display": null,
            "left": null
          }
        },
        "1761356c650c4bf180c36ce71a46f2be": {
          "model_module": "@jupyter-widgets/controls",
          "model_name": "ProgressStyleModel",
          "model_module_version": "1.5.0",
          "state": {
            "_view_name": "StyleView",
            "_model_name": "ProgressStyleModel",
            "description_width": "",
            "_view_module": "@jupyter-widgets/base",
            "_model_module_version": "1.5.0",
            "_view_count": null,
            "_view_module_version": "1.2.0",
            "bar_color": null,
            "_model_module": "@jupyter-widgets/controls"
          }
        },
        "d34095c321fa4f929f619b10af03c122": {
          "model_module": "@jupyter-widgets/base",
          "model_name": "LayoutModel",
          "model_module_version": "1.2.0",
          "state": {
            "_view_name": "LayoutView",
            "grid_template_rows": null,
            "right": null,
            "justify_content": null,
            "_view_module": "@jupyter-widgets/base",
            "overflow": null,
            "_model_module_version": "1.2.0",
            "_view_count": null,
            "flex_flow": null,
            "width": null,
            "min_width": null,
            "border": null,
            "align_items": null,
            "bottom": null,
            "_model_module": "@jupyter-widgets/base",
            "top": null,
            "grid_column": null,
            "overflow_y": null,
            "overflow_x": null,
            "grid_auto_flow": null,
            "grid_area": null,
            "grid_template_columns": null,
            "flex": null,
            "_model_name": "LayoutModel",
            "justify_items": null,
            "grid_row": null,
            "max_height": null,
            "align_content": null,
            "visibility": null,
            "align_self": null,
            "height": null,
            "min_height": null,
            "padding": null,
            "grid_auto_rows": null,
            "grid_gap": null,
            "max_width": null,
            "order": null,
            "_view_module_version": "1.2.0",
            "grid_template_areas": null,
            "object_position": null,
            "object_fit": null,
            "grid_auto_columns": null,
            "margin": null,
            "display": null,
            "left": null
          }
        },
        "91ffdcfc6b9a408db2c5c704fb117e00": {
          "model_module": "@jupyter-widgets/controls",
          "model_name": "DescriptionStyleModel",
          "model_module_version": "1.5.0",
          "state": {
            "_view_name": "StyleView",
            "_model_name": "DescriptionStyleModel",
            "description_width": "",
            "_view_module": "@jupyter-widgets/base",
            "_model_module_version": "1.5.0",
            "_view_count": null,
            "_view_module_version": "1.2.0",
            "_model_module": "@jupyter-widgets/controls"
          }
        },
        "80d53c4cfe3d4b80a7f9dd5a76f49f29": {
          "model_module": "@jupyter-widgets/base",
          "model_name": "LayoutModel",
          "model_module_version": "1.2.0",
          "state": {
            "_view_name": "LayoutView",
            "grid_template_rows": null,
            "right": null,
            "justify_content": null,
            "_view_module": "@jupyter-widgets/base",
            "overflow": null,
            "_model_module_version": "1.2.0",
            "_view_count": null,
            "flex_flow": null,
            "width": null,
            "min_width": null,
            "border": null,
            "align_items": null,
            "bottom": null,
            "_model_module": "@jupyter-widgets/base",
            "top": null,
            "grid_column": null,
            "overflow_y": null,
            "overflow_x": null,
            "grid_auto_flow": null,
            "grid_area": null,
            "grid_template_columns": null,
            "flex": null,
            "_model_name": "LayoutModel",
            "justify_items": null,
            "grid_row": null,
            "max_height": null,
            "align_content": null,
            "visibility": null,
            "align_self": null,
            "height": null,
            "min_height": null,
            "padding": null,
            "grid_auto_rows": null,
            "grid_gap": null,
            "max_width": null,
            "order": null,
            "_view_module_version": "1.2.0",
            "grid_template_areas": null,
            "object_position": null,
            "object_fit": null,
            "grid_auto_columns": null,
            "margin": null,
            "display": null,
            "left": null
          }
        },
        "e5b1b937ac554fd481a36140700134d9": {
          "model_module": "@jupyter-widgets/controls",
          "model_name": "HBoxModel",
          "model_module_version": "1.5.0",
          "state": {
            "_view_name": "HBoxView",
            "_dom_classes": [],
            "_model_name": "HBoxModel",
            "_view_module": "@jupyter-widgets/controls",
            "_model_module_version": "1.5.0",
            "_view_count": null,
            "_view_module_version": "1.5.0",
            "box_style": "",
            "layout": "IPY_MODEL_ef92d96e512a4f27a29c22ec26780b2e",
            "_model_module": "@jupyter-widgets/controls",
            "children": [
              "IPY_MODEL_3d5f20467c414f6fa92b050f118fcadc",
              "IPY_MODEL_748f6732f4674d428347b3c9a480583d",
              "IPY_MODEL_2bd8f604511f41e1b5679005430065cb"
            ]
          }
        },
        "ef92d96e512a4f27a29c22ec26780b2e": {
          "model_module": "@jupyter-widgets/base",
          "model_name": "LayoutModel",
          "model_module_version": "1.2.0",
          "state": {
            "_view_name": "LayoutView",
            "grid_template_rows": null,
            "right": null,
            "justify_content": null,
            "_view_module": "@jupyter-widgets/base",
            "overflow": null,
            "_model_module_version": "1.2.0",
            "_view_count": null,
            "flex_flow": null,
            "width": null,
            "min_width": null,
            "border": null,
            "align_items": null,
            "bottom": null,
            "_model_module": "@jupyter-widgets/base",
            "top": null,
            "grid_column": null,
            "overflow_y": null,
            "overflow_x": null,
            "grid_auto_flow": null,
            "grid_area": null,
            "grid_template_columns": null,
            "flex": null,
            "_model_name": "LayoutModel",
            "justify_items": null,
            "grid_row": null,
            "max_height": null,
            "align_content": null,
            "visibility": null,
            "align_self": null,
            "height": null,
            "min_height": null,
            "padding": null,
            "grid_auto_rows": null,
            "grid_gap": null,
            "max_width": null,
            "order": null,
            "_view_module_version": "1.2.0",
            "grid_template_areas": null,
            "object_position": null,
            "object_fit": null,
            "grid_auto_columns": null,
            "margin": null,
            "display": null,
            "left": null
          }
        },
        "3d5f20467c414f6fa92b050f118fcadc": {
          "model_module": "@jupyter-widgets/controls",
          "model_name": "HTMLModel",
          "model_module_version": "1.5.0",
          "state": {
            "_view_name": "HTMLView",
            "style": "IPY_MODEL_59aeefbfb4b9417cb09892bad2238f24",
            "_dom_classes": [],
            "description": "",
            "_model_name": "HTMLModel",
            "placeholder": "​",
            "_view_module": "@jupyter-widgets/controls",
            "_model_module_version": "1.5.0",
            "value": "",
            "_view_count": null,
            "_view_module_version": "1.5.0",
            "description_tooltip": null,
            "_model_module": "@jupyter-widgets/controls",
            "layout": "IPY_MODEL_2ebe06b169de4fa98638912dec69502b"
          }
        },
        "748f6732f4674d428347b3c9a480583d": {
          "model_module": "@jupyter-widgets/controls",
          "model_name": "FloatProgressModel",
          "model_module_version": "1.5.0",
          "state": {
            "_view_name": "ProgressView",
            "style": "IPY_MODEL_5b3e056ed2f54cf5ab3f13ce2abd6c2a",
            "_dom_classes": [],
            "description": "",
            "_model_name": "FloatProgressModel",
            "bar_style": "success",
            "max": 169001437,
            "_view_module": "@jupyter-widgets/controls",
            "_model_module_version": "1.5.0",
            "value": 169001437,
            "_view_count": null,
            "_view_module_version": "1.5.0",
            "orientation": "horizontal",
            "min": 0,
            "description_tooltip": null,
            "_model_module": "@jupyter-widgets/controls",
            "layout": "IPY_MODEL_86a4cf40a857401db82847c5bc1a7239"
          }
        },
        "2bd8f604511f41e1b5679005430065cb": {
          "model_module": "@jupyter-widgets/controls",
          "model_name": "HTMLModel",
          "model_module_version": "1.5.0",
          "state": {
            "_view_name": "HTMLView",
            "style": "IPY_MODEL_80f05aa2edc947dea84c43947a843982",
            "_dom_classes": [],
            "description": "",
            "_model_name": "HTMLModel",
            "placeholder": "​",
            "_view_module": "@jupyter-widgets/controls",
            "_model_module_version": "1.5.0",
            "value": " 169001984/? [00:11&lt;00:00, 16948647.16it/s]",
            "_view_count": null,
            "_view_module_version": "1.5.0",
            "description_tooltip": null,
            "_model_module": "@jupyter-widgets/controls",
            "layout": "IPY_MODEL_12423515374f427a8f99bc2704046c3e"
          }
        },
        "59aeefbfb4b9417cb09892bad2238f24": {
          "model_module": "@jupyter-widgets/controls",
          "model_name": "DescriptionStyleModel",
          "model_module_version": "1.5.0",
          "state": {
            "_view_name": "StyleView",
            "_model_name": "DescriptionStyleModel",
            "description_width": "",
            "_view_module": "@jupyter-widgets/base",
            "_model_module_version": "1.5.0",
            "_view_count": null,
            "_view_module_version": "1.2.0",
            "_model_module": "@jupyter-widgets/controls"
          }
        },
        "2ebe06b169de4fa98638912dec69502b": {
          "model_module": "@jupyter-widgets/base",
          "model_name": "LayoutModel",
          "model_module_version": "1.2.0",
          "state": {
            "_view_name": "LayoutView",
            "grid_template_rows": null,
            "right": null,
            "justify_content": null,
            "_view_module": "@jupyter-widgets/base",
            "overflow": null,
            "_model_module_version": "1.2.0",
            "_view_count": null,
            "flex_flow": null,
            "width": null,
            "min_width": null,
            "border": null,
            "align_items": null,
            "bottom": null,
            "_model_module": "@jupyter-widgets/base",
            "top": null,
            "grid_column": null,
            "overflow_y": null,
            "overflow_x": null,
            "grid_auto_flow": null,
            "grid_area": null,
            "grid_template_columns": null,
            "flex": null,
            "_model_name": "LayoutModel",
            "justify_items": null,
            "grid_row": null,
            "max_height": null,
            "align_content": null,
            "visibility": null,
            "align_self": null,
            "height": null,
            "min_height": null,
            "padding": null,
            "grid_auto_rows": null,
            "grid_gap": null,
            "max_width": null,
            "order": null,
            "_view_module_version": "1.2.0",
            "grid_template_areas": null,
            "object_position": null,
            "object_fit": null,
            "grid_auto_columns": null,
            "margin": null,
            "display": null,
            "left": null
          }
        },
        "5b3e056ed2f54cf5ab3f13ce2abd6c2a": {
          "model_module": "@jupyter-widgets/controls",
          "model_name": "ProgressStyleModel",
          "model_module_version": "1.5.0",
          "state": {
            "_view_name": "StyleView",
            "_model_name": "ProgressStyleModel",
            "description_width": "",
            "_view_module": "@jupyter-widgets/base",
            "_model_module_version": "1.5.0",
            "_view_count": null,
            "_view_module_version": "1.2.0",
            "bar_color": null,
            "_model_module": "@jupyter-widgets/controls"
          }
        },
        "86a4cf40a857401db82847c5bc1a7239": {
          "model_module": "@jupyter-widgets/base",
          "model_name": "LayoutModel",
          "model_module_version": "1.2.0",
          "state": {
            "_view_name": "LayoutView",
            "grid_template_rows": null,
            "right": null,
            "justify_content": null,
            "_view_module": "@jupyter-widgets/base",
            "overflow": null,
            "_model_module_version": "1.2.0",
            "_view_count": null,
            "flex_flow": null,
            "width": null,
            "min_width": null,
            "border": null,
            "align_items": null,
            "bottom": null,
            "_model_module": "@jupyter-widgets/base",
            "top": null,
            "grid_column": null,
            "overflow_y": null,
            "overflow_x": null,
            "grid_auto_flow": null,
            "grid_area": null,
            "grid_template_columns": null,
            "flex": null,
            "_model_name": "LayoutModel",
            "justify_items": null,
            "grid_row": null,
            "max_height": null,
            "align_content": null,
            "visibility": null,
            "align_self": null,
            "height": null,
            "min_height": null,
            "padding": null,
            "grid_auto_rows": null,
            "grid_gap": null,
            "max_width": null,
            "order": null,
            "_view_module_version": "1.2.0",
            "grid_template_areas": null,
            "object_position": null,
            "object_fit": null,
            "grid_auto_columns": null,
            "margin": null,
            "display": null,
            "left": null
          }
        },
        "80f05aa2edc947dea84c43947a843982": {
          "model_module": "@jupyter-widgets/controls",
          "model_name": "DescriptionStyleModel",
          "model_module_version": "1.5.0",
          "state": {
            "_view_name": "StyleView",
            "_model_name": "DescriptionStyleModel",
            "description_width": "",
            "_view_module": "@jupyter-widgets/base",
            "_model_module_version": "1.5.0",
            "_view_count": null,
            "_view_module_version": "1.2.0",
            "_model_module": "@jupyter-widgets/controls"
          }
        },
        "12423515374f427a8f99bc2704046c3e": {
          "model_module": "@jupyter-widgets/base",
          "model_name": "LayoutModel",
          "model_module_version": "1.2.0",
          "state": {
            "_view_name": "LayoutView",
            "grid_template_rows": null,
            "right": null,
            "justify_content": null,
            "_view_module": "@jupyter-widgets/base",
            "overflow": null,
            "_model_module_version": "1.2.0",
            "_view_count": null,
            "flex_flow": null,
            "width": null,
            "min_width": null,
            "border": null,
            "align_items": null,
            "bottom": null,
            "_model_module": "@jupyter-widgets/base",
            "top": null,
            "grid_column": null,
            "overflow_y": null,
            "overflow_x": null,
            "grid_auto_flow": null,
            "grid_area": null,
            "grid_template_columns": null,
            "flex": null,
            "_model_name": "LayoutModel",
            "justify_items": null,
            "grid_row": null,
            "max_height": null,
            "align_content": null,
            "visibility": null,
            "align_self": null,
            "height": null,
            "min_height": null,
            "padding": null,
            "grid_auto_rows": null,
            "grid_gap": null,
            "max_width": null,
            "order": null,
            "_view_module_version": "1.2.0",
            "grid_template_areas": null,
            "object_position": null,
            "object_fit": null,
            "grid_auto_columns": null,
            "margin": null,
            "display": null,
            "left": null
          }
        }
      }
    }
  },
  "nbformat": 4,
  "nbformat_minor": 0
}