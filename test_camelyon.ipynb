{
 "cells": [
  {
   "cell_type": "code",
   "execution_count": 27,
   "metadata": {},
   "outputs": [],
   "source": [
    "from wilds import get_dataset as get_wild_dataset\n",
    "from torchvision import transforms\n",
    "from wilds.common.data_loaders import get_train_loader, get_eval_loader\n",
    "from torch.utils.data import DataLoader, Dataset, random_split, Subset\n",
    "from wilds.datasets.camelyon17_dataset import Camelyon17Dataset\n",
    "\n",
    "from src.utils import collate_list\n",
    "\n",
    "transform = transforms.Compose([\n",
    "        transforms.ToTensor()\n",
    "    ])\n",
    "dataset = Camelyon17Dataset(download=False, root_dir=\"./datasets/\")"
   ]
  },
  {
   "cell_type": "code",
   "execution_count": 17,
   "metadata": {},
   "outputs": [
    {
     "data": {
      "text/plain": [
       "'.forward'"
      ]
     },
     "execution_count": 17,
     "metadata": {},
     "output_type": "execute_result"
    }
   ],
   "source": [
    "str.index(\"model.forward\",\".\")\n",
    "\n",
    "\"model.forward\"[5:]"
   ]
  },
  {
   "cell_type": "code",
   "execution_count": 18,
   "metadata": {},
   "outputs": [
    {
     "ename": "ValueError",
     "evalue": "too many values to unpack (expected 2)",
     "output_type": "error",
     "traceback": [
      "\u001b[0;31m---------------------------------------------------------------------------\u001b[0m",
      "\u001b[0;31mValueError\u001b[0m                                Traceback (most recent call last)",
      "\u001b[0;32m<ipython-input-18-3098c5ef92e0>\u001b[0m in \u001b[0;36m<module>\u001b[0;34m\u001b[0m\n\u001b[1;32m      4\u001b[0m \u001b[0mmodel\u001b[0m \u001b[0;34m=\u001b[0m \u001b[0mdensenet121\u001b[0m\u001b[0;34m(\u001b[0m\u001b[0mpretrained\u001b[0m\u001b[0;34m=\u001b[0m\u001b[0;32mFalse\u001b[0m\u001b[0;34m)\u001b[0m\u001b[0;34m\u001b[0m\u001b[0;34m\u001b[0m\u001b[0m\n\u001b[1;32m      5\u001b[0m \u001b[0mstate_dict\u001b[0m \u001b[0;34m=\u001b[0m \u001b[0mtorch\u001b[0m\u001b[0;34m.\u001b[0m\u001b[0mhub\u001b[0m\u001b[0;34m.\u001b[0m\u001b[0mload_state_dict_from_url\u001b[0m\u001b[0;34m(\u001b[0m\u001b[0;34m\"https://worksheets.codalab.org/rest/bundles/0xa65a22f7b41e446ea09b0dbcff12334d/contents/blob/camelyon17_seed%3A0_epoch%3Abest_model.pth\"\u001b[0m\u001b[0;34m)\u001b[0m\u001b[0;34m\u001b[0m\u001b[0;34m\u001b[0m\u001b[0m\n\u001b[0;32m----> 6\u001b[0;31m \u001b[0mstate_dict\u001b[0m \u001b[0;34m=\u001b[0m \u001b[0;34m{\u001b[0m\u001b[0mname\u001b[0m\u001b[0;34m[\u001b[0m\u001b[0;36m6\u001b[0m\u001b[0;34m:\u001b[0m\u001b[0;34m]\u001b[0m\u001b[0;34m:\u001b[0m\u001b[0mvalue\u001b[0m \u001b[0;32mfor\u001b[0m \u001b[0mname\u001b[0m\u001b[0;34m,\u001b[0m \u001b[0mvalue\u001b[0m \u001b[0;32min\u001b[0m \u001b[0mstate_dict\u001b[0m\u001b[0;34m[\u001b[0m\u001b[0;34m\"algorithm\"\u001b[0m\u001b[0;34m]\u001b[0m\u001b[0;34m}\u001b[0m\u001b[0;34m\u001b[0m\u001b[0;34m\u001b[0m\u001b[0m\n\u001b[0m\u001b[1;32m      7\u001b[0m \u001b[0;34m\u001b[0m\u001b[0m\n\u001b[1;32m      8\u001b[0m \u001b[0mmodel\u001b[0m\u001b[0;34m.\u001b[0m\u001b[0mload_state_dict\u001b[0m\u001b[0;34m(\u001b[0m\u001b[0;34m[\u001b[0m\u001b[0mstate_dict\u001b[0m\u001b[0;34m[\u001b[0m\u001b[0;34m\"algorithm\"\u001b[0m\u001b[0;34m]\u001b[0m\u001b[0;34m]\u001b[0m\u001b[0;34m)\u001b[0m\u001b[0;34m\u001b[0m\u001b[0;34m\u001b[0m\u001b[0m\n",
      "\u001b[0;32m<ipython-input-18-3098c5ef92e0>\u001b[0m in \u001b[0;36m<dictcomp>\u001b[0;34m(.0)\u001b[0m\n\u001b[1;32m      4\u001b[0m \u001b[0mmodel\u001b[0m \u001b[0;34m=\u001b[0m \u001b[0mdensenet121\u001b[0m\u001b[0;34m(\u001b[0m\u001b[0mpretrained\u001b[0m\u001b[0;34m=\u001b[0m\u001b[0;32mFalse\u001b[0m\u001b[0;34m)\u001b[0m\u001b[0;34m\u001b[0m\u001b[0;34m\u001b[0m\u001b[0m\n\u001b[1;32m      5\u001b[0m \u001b[0mstate_dict\u001b[0m \u001b[0;34m=\u001b[0m \u001b[0mtorch\u001b[0m\u001b[0;34m.\u001b[0m\u001b[0mhub\u001b[0m\u001b[0;34m.\u001b[0m\u001b[0mload_state_dict_from_url\u001b[0m\u001b[0;34m(\u001b[0m\u001b[0;34m\"https://worksheets.codalab.org/rest/bundles/0xa65a22f7b41e446ea09b0dbcff12334d/contents/blob/camelyon17_seed%3A0_epoch%3Abest_model.pth\"\u001b[0m\u001b[0;34m)\u001b[0m\u001b[0;34m\u001b[0m\u001b[0;34m\u001b[0m\u001b[0m\n\u001b[0;32m----> 6\u001b[0;31m \u001b[0mstate_dict\u001b[0m \u001b[0;34m=\u001b[0m \u001b[0;34m{\u001b[0m\u001b[0mname\u001b[0m\u001b[0;34m[\u001b[0m\u001b[0;36m6\u001b[0m\u001b[0;34m:\u001b[0m\u001b[0;34m]\u001b[0m\u001b[0;34m:\u001b[0m\u001b[0mvalue\u001b[0m \u001b[0;32mfor\u001b[0m \u001b[0mname\u001b[0m\u001b[0;34m,\u001b[0m \u001b[0mvalue\u001b[0m \u001b[0;32min\u001b[0m \u001b[0mstate_dict\u001b[0m\u001b[0;34m[\u001b[0m\u001b[0;34m\"algorithm\"\u001b[0m\u001b[0;34m]\u001b[0m\u001b[0;34m}\u001b[0m\u001b[0;34m\u001b[0m\u001b[0;34m\u001b[0m\u001b[0m\n\u001b[0m\u001b[1;32m      7\u001b[0m \u001b[0;34m\u001b[0m\u001b[0m\n\u001b[1;32m      8\u001b[0m \u001b[0mmodel\u001b[0m\u001b[0;34m.\u001b[0m\u001b[0mload_state_dict\u001b[0m\u001b[0;34m(\u001b[0m\u001b[0;34m[\u001b[0m\u001b[0mstate_dict\u001b[0m\u001b[0;34m[\u001b[0m\u001b[0;34m\"algorithm\"\u001b[0m\u001b[0;34m]\u001b[0m\u001b[0;34m]\u001b[0m\u001b[0;34m)\u001b[0m\u001b[0;34m\u001b[0m\u001b[0;34m\u001b[0m\u001b[0m\n",
      "\u001b[0;31mValueError\u001b[0m: too many values to unpack (expected 2)"
     ]
    }
   ],
   "source": [
    "from torchvision.models import densenet121\n",
    "import torch\n",
    "\n",
    "model = densenet121(pretrained=False)\n",
    "state_dict = torch.hub.load_state_dict_from_url(\"https://worksheets.codalab.org/rest/bundles/0xa65a22f7b41e446ea09b0dbcff12334d/contents/blob/camelyon17_seed%3A0_epoch%3Abest_model.pth\")\n",
    "state_dict = {name[6:]:value for name, value in state_dict[\"algorithm\"]}\n",
    "\n",
    "model.load_state_dict([state_dict[\"algorithm\"]])"
   ]
  },
  {
   "cell_type": "code",
   "execution_count": null,
   "metadata": {},
   "outputs": [],
   "source": [
    "model.load_state_dict()"
   ]
  },
  {
   "cell_type": "code",
   "execution_count": 21,
   "metadata": {},
   "outputs": [],
   "source": [
    "data_test  = dataset.get_subset(\"test\", transform=transform)\n",
    "test_dl = get_eval_loader(\"standard\", data_test, batch_size=128, num_workers=5, pin_memory=True)\n"
   ]
  },
  {
   "cell_type": "code",
   "execution_count": 25,
   "metadata": {},
   "outputs": [
    {
     "data": {
      "text/plain": [
       "(['hospital', 'slide', 'y', 'from_source_domain'],\n",
       " tensor([[ 0,  0,  1,  1],\n",
       "         [ 0,  0,  1,  1],\n",
       "         [ 0,  0,  1,  1],\n",
       "         ...,\n",
       "         [ 4, 47,  0,  1],\n",
       "         [ 4, 41,  0,  1],\n",
       "         [ 4, 43,  0,  1]]))"
      ]
     },
     "execution_count": 25,
     "metadata": {},
     "output_type": "execute_result"
    }
   ],
   "source": [
    "dataset.metadata_fields, dataset.metadata_array"
   ]
  },
  {
   "cell_type": "code",
   "execution_count": 32,
   "metadata": {},
   "outputs": [],
   "source": [
    "from wilds.common.grouper import CombinatorialGrouper\n",
    "from wilds.common.metrics.all_metrics import Accuracy\n",
    "\n",
    "def eval(y_pred, y_true, metadata, eval_grouper,prediction_fn=None):\n",
    "    \"\"\"\n",
    "    Computes all evaluation metrics.\n",
    "    Args:\n",
    "        - y_pred (Tensor): Predictions from a model. By default, they are predicted labels (LongTensor).\n",
    "                           But they can also be other model outputs such that prediction_fn(y_pred)\n",
    "                           are predicted labels.\n",
    "        - y_true (LongTensor): Ground-truth labels\n",
    "        - metadata (Tensor): Metadata\n",
    "        - prediction_fn (function): A function that turns y_pred into predicted labels\n",
    "    Output:\n",
    "        - results (dictionary): Dictionary of evaluation metrics\n",
    "        - results_str (str): String summarizing the evaluation metrics\n",
    "    \"\"\"\n",
    "    metric = Accuracy(prediction_fn=prediction_fn)\n",
    "\n",
    "    return Camelyon17Dataset.standard_group_eval(\n",
    "        metric,\n",
    "        eval_grouper,\n",
    "        y_pred, y_true, metadata)"
   ]
  },
  {
   "cell_type": "code",
   "execution_count": 36,
   "metadata": {},
   "outputs": [
    {
     "data": {
      "text/plain": [
       "[[2, 20, 1, 0],\n",
       " [2, 20, 1, 0],\n",
       " [2, 20, 1, 0],\n",
       " [2, 20, 1, 0],\n",
       " [2, 20, 1, 0],\n",
       " [2, 20, 1, 0],\n",
       " [2, 20, 1, 0],\n",
       " [2, 20, 1, 0],\n",
       " [2, 20, 1, 0],\n",
       " [2, 20, 1, 0],\n",
       " [2, 20, 1, 0],\n",
       " [2, 20, 1, 0],\n",
       " [2, 20, 1, 0],\n",
       " [2, 20, 1, 0],\n",
       " [2, 20, 1, 0],\n",
       " [2, 20, 1, 0],\n",
       " [2, 20, 1, 0],\n",
       " [2, 20, 1, 0],\n",
       " [2, 20, 1, 0],\n",
       " [2, 20, 1, 0],\n",
       " [2, 20, 1, 0],\n",
       " [2, 20, 1, 0],\n",
       " [2, 20, 1, 0],\n",
       " [2, 20, 1, 0],\n",
       " [2, 20, 1, 0],\n",
       " [2, 20, 1, 0],\n",
       " [2, 20, 1, 0],\n",
       " [2, 21, 1, 0],\n",
       " [2, 21, 1, 0],\n",
       " [2, 21, 1, 0],\n",
       " [2, 21, 1, 0],\n",
       " [2, 21, 1, 0],\n",
       " [2, 21, 1, 0],\n",
       " [2, 21, 1, 0],\n",
       " [2, 21, 1, 0],\n",
       " [2, 21, 1, 0],\n",
       " [2, 21, 1, 0],\n",
       " [2, 22, 1, 0],\n",
       " [2, 22, 1, 0],\n",
       " [2, 22, 1, 0],\n",
       " [2, 22, 1, 0],\n",
       " [2, 22, 1, 0],\n",
       " [2, 22, 1, 0],\n",
       " [2, 22, 1, 0],\n",
       " [2, 22, 1, 0],\n",
       " [2, 22, 1, 0],\n",
       " [2, 22, 1, 0],\n",
       " [2, 22, 1, 0],\n",
       " [2, 22, 1, 0],\n",
       " [2, 22, 1, 0],\n",
       " [2, 22, 1, 0],\n",
       " [2, 22, 1, 0],\n",
       " [2, 22, 1, 0],\n",
       " [2, 22, 1, 0],\n",
       " [2, 22, 1, 0],\n",
       " [2, 22, 1, 0],\n",
       " [2, 22, 1, 0],\n",
       " [2, 22, 1, 0],\n",
       " [2, 22, 1, 0],\n",
       " [2, 22, 1, 0],\n",
       " [2, 22, 1, 0],\n",
       " [2, 22, 1, 0],\n",
       " [2, 22, 1, 0],\n",
       " [2, 22, 1, 0],\n",
       " [2, 22, 1, 0],\n",
       " [2, 22, 1, 0],\n",
       " [2, 22, 1, 0],\n",
       " [2, 22, 1, 0],\n",
       " [2, 22, 1, 0],\n",
       " [2, 22, 1, 0],\n",
       " [2, 22, 1, 0],\n",
       " [2, 22, 1, 0],\n",
       " [2, 22, 1, 0],\n",
       " [2, 22, 1, 0],\n",
       " [2, 22, 1, 0],\n",
       " [2, 22, 1, 0],\n",
       " [2, 22, 1, 0],\n",
       " [2, 22, 1, 0],\n",
       " [2, 22, 1, 0],\n",
       " [2, 22, 1, 0],\n",
       " [2, 22, 1, 0],\n",
       " [2, 22, 1, 0],\n",
       " [2, 22, 1, 0],\n",
       " [2, 22, 1, 0],\n",
       " [2, 22, 1, 0],\n",
       " [2, 22, 1, 0],\n",
       " [2, 22, 1, 0],\n",
       " [2, 22, 1, 0],\n",
       " [2, 22, 1, 0],\n",
       " [2, 22, 1, 0],\n",
       " [2, 22, 1, 0],\n",
       " [2, 22, 1, 0],\n",
       " [2, 22, 1, 0],\n",
       " [2, 22, 1, 0],\n",
       " [2, 22, 1, 0],\n",
       " [2, 22, 1, 0],\n",
       " [2, 22, 1, 0],\n",
       " [2, 22, 1, 0],\n",
       " [2, 22, 1, 0],\n",
       " [2, 22, 1, 0],\n",
       " [2, 22, 1, 0],\n",
       " [2, 22, 1, 0],\n",
       " [2, 22, 1, 0],\n",
       " [2, 22, 1, 0],\n",
       " [2, 22, 1, 0],\n",
       " [2, 22, 1, 0],\n",
       " [2, 22, 1, 0],\n",
       " [2, 22, 1, 0],\n",
       " [2, 22, 1, 0],\n",
       " [2, 22, 1, 0],\n",
       " [2, 22, 1, 0],\n",
       " [2, 22, 1, 0],\n",
       " [2, 22, 1, 0],\n",
       " [2, 22, 1, 0],\n",
       " [2, 22, 1, 0],\n",
       " [2, 22, 1, 0],\n",
       " [2, 22, 1, 0],\n",
       " [2, 22, 1, 0],\n",
       " [2, 22, 1, 0],\n",
       " [2, 22, 1, 0],\n",
       " [2, 22, 1, 0],\n",
       " [2, 22, 1, 0],\n",
       " [2, 22, 1, 0],\n",
       " [2, 22, 1, 0],\n",
       " [2, 22, 1, 0],\n",
       " [2, 22, 1, 0],\n",
       " [2, 22, 1, 0],\n",
       " [2, 22, 1, 0]]"
      ]
     },
     "execution_count": 36,
     "metadata": {},
     "output_type": "execute_result"
    }
   ],
   "source": [
    "meta.tolist()"
   ]
  },
  {
   "cell_type": "code",
   "execution_count": 34,
   "metadata": {},
   "outputs": [
    {
     "data": {
      "text/plain": [
       "({'acc_avg': 1.0,\n",
       "  'acc_hospital:0': 0.0,\n",
       "  'count_hospital:0': 0.0,\n",
       "  'acc_hospital:1': 0.0,\n",
       "  'count_hospital:1': 0.0,\n",
       "  'acc_hospital:2': 1.0,\n",
       "  'count_hospital:2': 128.0,\n",
       "  'acc_hospital:3': 0.0,\n",
       "  'count_hospital:3': 0.0,\n",
       "  'acc_hospital:4': 0.0,\n",
       "  'count_hospital:4': 0.0,\n",
       "  'acc_wg': 1.0},\n",
       " 'Average acc: 1.000\\n  hospital = 2  [n =    128]:\\tacc = 1.000\\nWorst-group acc: 1.000\\n')"
      ]
     },
     "execution_count": 34,
     "metadata": {},
     "output_type": "execute_result"
    }
   ],
   "source": [
    "\n",
    "\n",
    "\n",
    "for X,y, meta in test_dl:\n",
    "    break\n",
    "\n",
    "eval_grouper = CombinatorialGrouper(dataset=dataset, groupby_fields=[\"hospital\"])\n",
    "\n",
    "eval(y_pred=y, y_true=y, metadata=meta, eval_grouper=eval_grouper)"
   ]
  }
 ],
 "metadata": {
  "kernelspec": {
   "display_name": "py38",
   "language": "python",
   "name": "python3"
  },
  "language_info": {
   "codemirror_mode": {
    "name": "ipython",
    "version": 3
   },
   "file_extension": ".py",
   "mimetype": "text/x-python",
   "name": "python",
   "nbconvert_exporter": "python",
   "pygments_lexer": "ipython3",
   "version": "3.8.13"
  },
  "orig_nbformat": 4
 },
 "nbformat": 4,
 "nbformat_minor": 2
}
