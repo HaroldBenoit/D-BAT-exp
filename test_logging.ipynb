{
 "cells": [
  {
   "cell_type": "code",
   "execution_count": 73,
   "metadata": {},
   "outputs": [],
   "source": [
    "import json\n",
    "import numpy as np\n",
    "import matplotlib.pyplot as plt\n",
    "import pandas as pd\n",
    "import torch"
   ]
  },
  {
   "cell_type": "code",
   "execution_count": 95,
   "metadata": {},
   "outputs": [],
   "source": [
    "from wilds.datasets.waterbirds_dataset import WaterbirdsDataset\n",
    "from wilds.datasets.wilds_dataset import WILDSDataset"
   ]
  },
  {
   "attachments": {},
   "cell_type": "markdown",
   "metadata": {},
   "source": [
    "### Testing"
   ]
  },
  {
   "cell_type": "code",
   "execution_count": null,
   "metadata": {},
   "outputs": [],
   "source": [
    "## TEST METRICS\n",
    "test_acc_ensemble = logs[\"ensemble-test-acc\"]\n",
    "best_single_model_test_acc = max(logs[\"test-acc\"])\n",
    "test_acc_of_sub_ensembles = logs[\"test_acc_ensemble_per_ens_size\"]\n",
    "\n",
    "ensemble_size = 2\n",
    "best_val_acc_per_model = {f\"m{i}\": max([x[1] for x in logs[f\"m{i}\"][\"valid-acc\"]]) for i in range(1,ensemble_size+1)}\n",
    "best_val_acc_per_model"
   ]
  },
  {
   "cell_type": "code",
   "execution_count": 107,
   "metadata": {},
   "outputs": [],
   "source": [
    "from collections import defaultdict\n",
    "import os.path as osp\n",
    "from typing import Union, Dict, List\n",
    "\n",
    "def get_eval_meta_args(logs, y_index):\n",
    "    test_metadata= np.array(logs[\"test-metas\"][0])\n",
    "    y_true = test_metadata[:,y_index]\n",
    "    test_logits = np.array(logs[\"test-logits\"][0][0])\n",
    "    y_pred = np.argmax(test_logits,axis=1)\n",
    "    y_true = torch.tensor(y_true)\n",
    "    y_pred= torch.tensor(y_pred)\n",
    "    test_metadata= torch.tensor(test_metadata)\n",
    "\n",
    "    return y_pred, y_true, test_metadata\n",
    "\n",
    "def results(filename_format, dataset:WILDSDataset, meta_metrics:Union[List[str],None]=None):\n",
    "    y_index=dataset.metadata_fields.index(\"y\")\n",
    "\n",
    "    no_diversity=False\n",
    "    ensemble_size=2\n",
    "    res= defaultdict(list)\n",
    "\n",
    "    for seed in range(3):\n",
    "        filename= filename_format.format(seed=seed)\n",
    "        filename = osp.join(filename,\"summary.json\")\n",
    "\n",
    "        with open(filename) as f:\n",
    "            logs=json.load(f)\n",
    "\n",
    "            res[\"test_acc_ensemble\"].append(logs[\"ensemble-test-acc\"])\n",
    "            res[\"best_single_model_test_acc\"].append(max(logs[\"test-acc\"]))\n",
    "            for i in range(ensemble_size):\n",
    "                res[f\"m_{i+1}_test_acc\"].append(logs[\"test-acc\"][i])\n",
    "            res[\"test_similarity\"].append(logs[\"test_similarity\"][0][1])\n",
    "            res[\"unlabeled_final_similarity\"].append(logs[\"unlabeled_final_similarty\"][0][1])\n",
    "\n",
    "            ## worst group eval\n",
    "            y_pred, y_true, test_metadata = get_eval_meta_args(logs=logs, y_index=y_index)\n",
    "\n",
    "            eval_res = dataset.eval(y_pred=y_pred, y_true=y_true, metadata=test_metadata)\n",
    "            for meta_metric in meta_metrics:\n",
    "                res[meta_metric].append(eval_res[0][meta_metric])\n",
    "\n",
    "    \n",
    "    return res"
   ]
  },
  {
   "attachments": {},
   "cell_type": "markdown",
   "metadata": {},
   "source": [
    "## WATERBIRDS OOD_IS_TEST REPRODUCTION RESULTS"
   ]
  },
  {
   "cell_type": "code",
   "execution_count": 109,
   "metadata": {},
   "outputs": [
    {
     "data": {
      "text/html": [
       "<div>\n",
       "<style scoped>\n",
       "    .dataframe tbody tr th:only-of-type {\n",
       "        vertical-align: middle;\n",
       "    }\n",
       "\n",
       "    .dataframe tbody tr th {\n",
       "        vertical-align: top;\n",
       "    }\n",
       "\n",
       "    .dataframe thead th {\n",
       "        text-align: right;\n",
       "    }\n",
       "</style>\n",
       "<table border=\"1\" class=\"dataframe\">\n",
       "  <thead>\n",
       "    <tr style=\"text-align: right;\">\n",
       "      <th></th>\n",
       "      <th>test_acc_ensemble</th>\n",
       "      <th>best_single_model_test_acc</th>\n",
       "      <th>m_1_test_acc</th>\n",
       "      <th>m_2_test_acc</th>\n",
       "      <th>test_similarity</th>\n",
       "      <th>unlabeled_final_similarity</th>\n",
       "      <th>acc_wg</th>\n",
       "    </tr>\n",
       "  </thead>\n",
       "  <tbody>\n",
       "    <tr>\n",
       "      <th>mean</th>\n",
       "      <td>0.894</td>\n",
       "      <td>0.898</td>\n",
       "      <td>0.898</td>\n",
       "      <td>0.886</td>\n",
       "      <td>0.969</td>\n",
       "      <td>0.968</td>\n",
       "      <td>0.628</td>\n",
       "    </tr>\n",
       "    <tr>\n",
       "      <th>std</th>\n",
       "      <td>0.002</td>\n",
       "      <td>0.004</td>\n",
       "      <td>0.004</td>\n",
       "      <td>0.003</td>\n",
       "      <td>0.006</td>\n",
       "      <td>0.006</td>\n",
       "      <td>0.022</td>\n",
       "    </tr>\n",
       "  </tbody>\n",
       "</table>\n",
       "</div>"
      ],
      "text/plain": [
       "      test_acc_ensemble  best_single_model_test_acc  m_1_test_acc  \\\n",
       "mean              0.894                       0.898         0.898   \n",
       "std               0.002                       0.004         0.004   \n",
       "\n",
       "      m_2_test_acc  test_similarity  unlabeled_final_similarity  acc_wg  \n",
       "mean         0.886            0.969                       0.968   0.628  \n",
       "std          0.003            0.006                       0.006   0.022  "
      ]
     },
     "execution_count": 109,
     "metadata": {},
     "output_type": "execute_result"
    }
   ],
   "source": [
    "filename_format = \"/datasets/home/hbenoit/D-BAT-exp/results_reproduction/waterbird/perturb=ood_is_test/resnet50_pretrained=True/ep300/ep=300_lrmax=0.001_alpha=0.0001_dataset=waterbird_perturb_type=ood_is_test_model=resnet50_pretrained=True_scheduler=none_seed={seed}_opt=sgd_ensemble_size=2_no_diversity=False_dbat_loss_type=v1_weight_decay=0.0001_no_nesterov_majority_only=False\"\n",
    "dataset=WaterbirdsDataset(root_dir=\"./datasets/\", download=False)\n",
    "res= results(filename_format=filename_format, dataset=dataset, meta_metrics=[\"acc_wg\"], )\n",
    "waterbirds_df = pd.DataFrame(res)\n",
    "pd.options.display.float_format = \"{:,.3f}\".format\n",
    "waterbirds_df.aggregate([\"mean\",\"std\"])"
   ]
  },
  {
   "attachments": {},
   "cell_type": "markdown",
   "metadata": {},
   "source": [
    "## WATERBIRDS ERM REPRODUCTION RESULTS"
   ]
  },
  {
   "cell_type": "code",
   "execution_count": 111,
   "metadata": {},
   "outputs": [
    {
     "data": {
      "text/html": [
       "<div>\n",
       "<style scoped>\n",
       "    .dataframe tbody tr th:only-of-type {\n",
       "        vertical-align: middle;\n",
       "    }\n",
       "\n",
       "    .dataframe tbody tr th {\n",
       "        vertical-align: top;\n",
       "    }\n",
       "\n",
       "    .dataframe thead th {\n",
       "        text-align: right;\n",
       "    }\n",
       "</style>\n",
       "<table border=\"1\" class=\"dataframe\">\n",
       "  <thead>\n",
       "    <tr style=\"text-align: right;\">\n",
       "      <th></th>\n",
       "      <th>test_acc_ensemble</th>\n",
       "      <th>best_single_model_test_acc</th>\n",
       "      <th>m_1_test_acc</th>\n",
       "      <th>m_2_test_acc</th>\n",
       "      <th>test_similarity</th>\n",
       "      <th>unlabeled_final_similarity</th>\n",
       "      <th>acc_wg</th>\n",
       "    </tr>\n",
       "  </thead>\n",
       "  <tbody>\n",
       "    <tr>\n",
       "      <th>mean</th>\n",
       "      <td>0.885</td>\n",
       "      <td>0.885</td>\n",
       "      <td>0.885</td>\n",
       "      <td>0.884</td>\n",
       "      <td>0.978</td>\n",
       "      <td>0.979</td>\n",
       "      <td>0.641</td>\n",
       "    </tr>\n",
       "    <tr>\n",
       "      <th>std</th>\n",
       "      <td>0.002</td>\n",
       "      <td>0.000</td>\n",
       "      <td>0.000</td>\n",
       "      <td>0.002</td>\n",
       "      <td>0.006</td>\n",
       "      <td>0.005</td>\n",
       "      <td>0.013</td>\n",
       "    </tr>\n",
       "  </tbody>\n",
       "</table>\n",
       "</div>"
      ],
      "text/plain": [
       "      test_acc_ensemble  best_single_model_test_acc  m_1_test_acc  \\\n",
       "mean              0.885                       0.885         0.885   \n",
       "std               0.002                       0.000         0.000   \n",
       "\n",
       "      m_2_test_acc  test_similarity  unlabeled_final_similarity  acc_wg  \n",
       "mean         0.884            0.978                       0.979   0.641  \n",
       "std          0.002            0.006                       0.005   0.013  "
      ]
     },
     "execution_count": 111,
     "metadata": {},
     "output_type": "execute_result"
    }
   ],
   "source": [
    "filename_format = \"/datasets/home/hbenoit/D-BAT-exp/results_reproduction/waterbird/perturb=ood_is_test/resnet50_pretrained=True/ep300/ep=300_lrmax=0.001_alpha=0.0_dataset=waterbird_perturb_type=ood_is_test_model=resnet50_pretrained=True_scheduler=none_seed={seed}_opt=sgd_ensemble_size=2_no_diversity=True_dbat_loss_type=v1_weight_decay=0.0001_no_nesterov_majority_only=False\"\n",
    "dataset=WaterbirdsDataset(root_dir=\"./datasets/\", download=False)\n",
    "res= results(filename_format=filename_format, dataset=dataset, meta_metrics=[\"acc_wg\"])\n",
    "waterbirds_df = pd.DataFrame(res)\n",
    "pd.options.display.float_format = \"{:,.3f}\".format\n",
    "waterbirds_df.aggregate([\"mean\",\"std\"])"
   ]
  }
 ],
 "metadata": {
  "kernelspec": {
   "display_name": "py38",
   "language": "python",
   "name": "python3"
  },
  "language_info": {
   "codemirror_mode": {
    "name": "ipython",
    "version": 3
   },
   "file_extension": ".py",
   "mimetype": "text/x-python",
   "name": "python",
   "nbconvert_exporter": "python",
   "pygments_lexer": "ipython3",
   "version": "3.8.13"
  },
  "orig_nbformat": 4
 },
 "nbformat": 4,
 "nbformat_minor": 2
}
