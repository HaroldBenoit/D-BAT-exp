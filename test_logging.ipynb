{
 "cells": [
  {
   "cell_type": "code",
   "execution_count": 1,
   "metadata": {},
   "outputs": [],
   "source": [
    "import json\n",
    "import numpy as np\n",
    "import matplotlib.pyplot as plt"
   ]
  },
  {
   "cell_type": "code",
   "execution_count": 9,
   "metadata": {},
   "outputs": [],
   "source": [
    "\n",
    "filename= \"exps/camelyon17/perturb\\=ood_is_test/resnet50/ep30/ep\\=30_lrmax\\=0.001_alpha\\=0.1_dataset\\=camelyon17_perturb_type\\=ood_is_test_model\\=resnet50_pretrained\\=True_scheduler\\=none_seed\\=2_opt\\=sgd_ensemble_size\\=2_no_diversity\\=False_dbat_loss_type\\=v1_weight_decay\\=0.0001_no_nesterov_majority_only\\=False/\"\n",
    "filename= filename.replace(\"\\\\\",\"\")\n",
    "filename = filename + \"summary.json\""
   ]
  },
  {
   "cell_type": "code",
   "execution_count": 11,
   "metadata": {},
   "outputs": [],
   "source": [
    "with open(filename) as f:\n",
    "    logs=json.load(f)"
   ]
  },
  {
   "cell_type": "code",
   "execution_count": 12,
   "metadata": {},
   "outputs": [
    {
     "data": {
      "text/plain": [
       "dict_keys(['m1', 'm2', 'ensemble-test-acc', 'ensemble-test-pgd-acc', 'ensemble-test-acc-es', 'ensemble-test-pgd-acc-es', 'test-acc', 'test_acc_ensemble_per_ens_size', 'args'])"
      ]
     },
     "execution_count": 12,
     "metadata": {},
     "output_type": "execute_result"
    }
   ],
   "source": [
    "logs.keys()"
   ]
  },
  {
   "cell_type": "code",
   "execution_count": 19,
   "metadata": {},
   "outputs": [],
   "source": [
    "## TEST METRICS\n",
    "test_acc_ensemble = logs[\"ensemble-test-acc\"]\n",
    "best_single_model_test_acc = max(logs[\"test-acc\"])\n",
    "test_acc_of_sub_ensembles = logs[\"test_acc_ensemble_per_ens_size\"]"
   ]
  },
  {
   "cell_type": "code",
   "execution_count": 37,
   "metadata": {},
   "outputs": [
    {
     "data": {
      "text/plain": [
       "{'m1': 0.9247077703475952, 'm2': 0.7810279726982117}"
      ]
     },
     "execution_count": 37,
     "metadata": {},
     "output_type": "execute_result"
    }
   ],
   "source": [
    "ensemble_size = 2\n",
    "best_val_acc_per_model = {f\"m{i}\": max([x[1] for x in logs[f\"m{i}\"][\"valid-acc\"]]) for i in range(1,ensemble_size+1)}\n",
    "best_val_acc_per_model"
   ]
  }
 ],
 "metadata": {
  "kernelspec": {
   "display_name": "py38",
   "language": "python",
   "name": "python3"
  },
  "language_info": {
   "codemirror_mode": {
    "name": "ipython",
    "version": 3
   },
   "file_extension": ".py",
   "mimetype": "text/x-python",
   "name": "python",
   "nbconvert_exporter": "python",
   "pygments_lexer": "ipython3",
   "version": "3.8.13"
  },
  "orig_nbformat": 4
 },
 "nbformat": 4,
 "nbformat_minor": 2
}
