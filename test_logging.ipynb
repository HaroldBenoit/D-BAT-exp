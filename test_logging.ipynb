{
 "cells": [
  {
   "cell_type": "code",
   "execution_count": 4,
   "metadata": {},
   "outputs": [],
   "source": [
    "import json\n",
    "import numpy as np\n",
    "import matplotlib.pyplot as plt\n",
    "import pandas as pd\n",
    "import torch"
   ]
  },
  {
   "cell_type": "code",
   "execution_count": 5,
   "metadata": {},
   "outputs": [],
   "source": [
    "from wilds.datasets.waterbirds_dataset import WaterbirdsDataset\n",
    "from wilds.datasets.wilds_dataset import WILDSDataset"
   ]
  },
  {
   "cell_type": "code",
   "execution_count": 44,
   "metadata": {},
   "outputs": [],
   "source": [
    "from collections import defaultdict\n",
    "import os.path as osp\n",
    "from typing import Union, Dict, List\n",
    "\n",
    "def get_eval_meta_args(logs, y_index):\n",
    "    test_metadata= np.array(logs[\"test-metas\"][0])\n",
    "    y_true = test_metadata[:,y_index]\n",
    "    test_logits = np.array(logs[\"test-logits\"][0][0])\n",
    "    y_pred = np.argmax(test_logits,axis=1)\n",
    "    y_true = torch.tensor(y_true)\n",
    "    y_pred= torch.tensor(y_pred)\n",
    "    test_metadata= torch.tensor(test_metadata)\n",
    "\n",
    "    return y_pred, y_true, test_metadata\n",
    "\n",
    "def results(filename_format, dataset:WILDSDataset, meta_metrics:Union[List[str],None]=None):\n",
    "    y_index=dataset.metadata_fields.index(\"y\")\n",
    "\n",
    "    no_diversity=False\n",
    "    ensemble_size=2\n",
    "    res= defaultdict(list)\n",
    "\n",
    "    for seed in range(3):\n",
    "        filename= filename_format.format(seed=seed)\n",
    "        filename = osp.join(filename,\"summary.json\")\n",
    "\n",
    "        if not(osp.exists(filename)):\n",
    "            continue\n",
    "\n",
    "        with open(filename) as f:\n",
    "            logs=json.load(f)\n",
    "\n",
    "            res[\"test_acc_ensemble\"].append(logs[\"ensemble-test-acc\"])\n",
    "            #res[\"best_single_model_test_acc\"].append(max(logs[\"test-acc\"]))\n",
    "            for i in range(ensemble_size):\n",
    "                res[f\"m_{i+1}_test_acc\"].append(logs[\"test-acc\"][i])\n",
    "            res[\"test_similarity\"].append(logs[\"test_similarity\"][0][1])\n",
    "            res[\"unlabeled_final_similarity\"].append(logs[\"unlabeled_final_similarty\"][0][1])\n",
    "\n",
    "            ## worst group eval\n",
    "            y_pred, y_true, test_metadata = get_eval_meta_args(logs=logs, y_index=y_index)\n",
    "\n",
    "            eval_res = dataset.eval(y_pred=y_pred, y_true=y_true, metadata=test_metadata)\n",
    "            for meta_metric in meta_metrics:\n",
    "                res[meta_metric].append(eval_res[0][meta_metric])\n",
    "\n",
    "    \n",
    "    return res"
   ]
  },
  {
   "cell_type": "code",
   "execution_count": 13,
   "metadata": {},
   "outputs": [],
   "source": []
  },
  {
   "attachments": {},
   "cell_type": "markdown",
   "metadata": {},
   "source": [
    "## WATERBIRDS OOD_IS_TEST REPRODUCTION RESULTS"
   ]
  },
  {
   "cell_type": "code",
   "execution_count": 41,
   "metadata": {},
   "outputs": [],
   "source": [
    "waterbirds_filename_format= {\n",
    "    \"d_bat\": \"/datasets/home/hbenoit/D-BAT-exp/results_reproduction/waterbird/perturb=ood_is_test/resnet50_pretrained=True/ep300/ep=300_lrmax=0.001_alpha=0.0001_dataset=waterbird_perturb_type=ood_is_test_model=resnet50_pretrained=True_scheduler=none_seed={seed}_opt=sgd_ensemble_size=2_no_diversity=False_dbat_loss_type=v1_weight_decay=0.0001_no_nesterov_majority_only=False\",\n",
    "    \"erm\": \"/datasets/home/hbenoit/D-BAT-exp/results_reproduction/waterbird/perturb=ood_is_test/resnet50_pretrained=True/ep300/ep=300_lrmax=0.001_alpha=0.0_dataset=waterbird_perturb_type=ood_is_test_model=resnet50_pretrained=True_scheduler=none_seed={seed}_opt=sgd_ensemble_size=2_no_diversity=True_dbat_loss_type=v1_weight_decay=0.0001_no_nesterov_majority_only=False\",\n",
    "    \"np_d_bat\": \"/datasets/home/hbenoit/D-BAT-exp/results_reproduction/waterbird/perturb=ood_is_test/resnet50_pretrained=False/ep300/ep=300_lrmax=0.001_alpha=0.0001_dataset=waterbird_perturb_type=ood_is_test_model=resnet50_pretrained=False_scheduler=none_seed={seed}_opt=sgd_ensemble_size=2_no_diversity=False_dbat_loss_type=v1_weight_decay=0.0001_no_nesterov_majority_only=False\",\n",
    "    \"np_erm\": \"/datasets/home/hbenoit/D-BAT-exp/results_reproduction/waterbird/perturb=ood_is_test/resnet50_pretrained=False/ep300/ep=300_lrmax=0.001_alpha=0.0_dataset=waterbird_perturb_type=ood_is_test_model=resnet50_pretrained=False_scheduler=none_seed={seed}_opt=sgd_ensemble_size=2_no_diversity=True_dbat_loss_type=v1_weight_decay=0.0001_no_nesterov_majority_only=False\",\n",
    "}"
   ]
  },
  {
   "cell_type": "code",
   "execution_count": 51,
   "metadata": {},
   "outputs": [
    {
     "name": "stdout",
     "output_type": "stream",
     "text": [
      "D_BAT\n"
     ]
    },
    {
     "data": {
      "text/html": [
       "<div>\n",
       "<style scoped>\n",
       "    .dataframe tbody tr th:only-of-type {\n",
       "        vertical-align: middle;\n",
       "    }\n",
       "\n",
       "    .dataframe tbody tr th {\n",
       "        vertical-align: top;\n",
       "    }\n",
       "\n",
       "    .dataframe thead th {\n",
       "        text-align: right;\n",
       "    }\n",
       "</style>\n",
       "<table border=\"1\" class=\"dataframe\">\n",
       "  <thead>\n",
       "    <tr style=\"text-align: right;\">\n",
       "      <th></th>\n",
       "      <th>test_acc_ensemble</th>\n",
       "      <th>m_1_test_acc</th>\n",
       "      <th>m_2_test_acc</th>\n",
       "      <th>test_similarity</th>\n",
       "      <th>unlabeled_final_similarity</th>\n",
       "      <th>acc_wg</th>\n",
       "    </tr>\n",
       "  </thead>\n",
       "  <tbody>\n",
       "    <tr>\n",
       "      <th>mean</th>\n",
       "      <td>0.894</td>\n",
       "      <td>0.898</td>\n",
       "      <td>0.886</td>\n",
       "      <td>0.969</td>\n",
       "      <td>0.968</td>\n",
       "      <td>0.628</td>\n",
       "    </tr>\n",
       "    <tr>\n",
       "      <th>std</th>\n",
       "      <td>0.002</td>\n",
       "      <td>0.004</td>\n",
       "      <td>0.003</td>\n",
       "      <td>0.006</td>\n",
       "      <td>0.006</td>\n",
       "      <td>0.022</td>\n",
       "    </tr>\n",
       "  </tbody>\n",
       "</table>\n",
       "</div>"
      ],
      "text/plain": [
       "      test_acc_ensemble  m_1_test_acc  m_2_test_acc  test_similarity  \\\n",
       "mean              0.894         0.898         0.886            0.969   \n",
       "std               0.002         0.004         0.003            0.006   \n",
       "\n",
       "      unlabeled_final_similarity  acc_wg  \n",
       "mean                       0.968   0.628  \n",
       "std                        0.006   0.022  "
      ]
     },
     "metadata": {},
     "output_type": "display_data"
    },
    {
     "name": "stdout",
     "output_type": "stream",
     "text": [
      "ERM\n"
     ]
    },
    {
     "data": {
      "text/html": [
       "<div>\n",
       "<style scoped>\n",
       "    .dataframe tbody tr th:only-of-type {\n",
       "        vertical-align: middle;\n",
       "    }\n",
       "\n",
       "    .dataframe tbody tr th {\n",
       "        vertical-align: top;\n",
       "    }\n",
       "\n",
       "    .dataframe thead th {\n",
       "        text-align: right;\n",
       "    }\n",
       "</style>\n",
       "<table border=\"1\" class=\"dataframe\">\n",
       "  <thead>\n",
       "    <tr style=\"text-align: right;\">\n",
       "      <th></th>\n",
       "      <th>test_acc_ensemble</th>\n",
       "      <th>m_1_test_acc</th>\n",
       "      <th>m_2_test_acc</th>\n",
       "      <th>test_similarity</th>\n",
       "      <th>unlabeled_final_similarity</th>\n",
       "      <th>acc_wg</th>\n",
       "    </tr>\n",
       "  </thead>\n",
       "  <tbody>\n",
       "    <tr>\n",
       "      <th>mean</th>\n",
       "      <td>0.885</td>\n",
       "      <td>0.885</td>\n",
       "      <td>0.884</td>\n",
       "      <td>0.978</td>\n",
       "      <td>0.979</td>\n",
       "      <td>0.641</td>\n",
       "    </tr>\n",
       "    <tr>\n",
       "      <th>std</th>\n",
       "      <td>0.002</td>\n",
       "      <td>0.000</td>\n",
       "      <td>0.002</td>\n",
       "      <td>0.006</td>\n",
       "      <td>0.005</td>\n",
       "      <td>0.013</td>\n",
       "    </tr>\n",
       "  </tbody>\n",
       "</table>\n",
       "</div>"
      ],
      "text/plain": [
       "      test_acc_ensemble  m_1_test_acc  m_2_test_acc  test_similarity  \\\n",
       "mean              0.885         0.885         0.884            0.978   \n",
       "std               0.002         0.000         0.002            0.006   \n",
       "\n",
       "      unlabeled_final_similarity  acc_wg  \n",
       "mean                       0.979   0.641  \n",
       "std                        0.005   0.013  "
      ]
     },
     "metadata": {},
     "output_type": "display_data"
    },
    {
     "name": "stdout",
     "output_type": "stream",
     "text": [
      "NP_D_BAT\n"
     ]
    },
    {
     "data": {
      "text/html": [
       "<div>\n",
       "<style scoped>\n",
       "    .dataframe tbody tr th:only-of-type {\n",
       "        vertical-align: middle;\n",
       "    }\n",
       "\n",
       "    .dataframe tbody tr th {\n",
       "        vertical-align: top;\n",
       "    }\n",
       "\n",
       "    .dataframe thead th {\n",
       "        text-align: right;\n",
       "    }\n",
       "</style>\n",
       "<table border=\"1\" class=\"dataframe\">\n",
       "  <thead>\n",
       "    <tr style=\"text-align: right;\">\n",
       "      <th></th>\n",
       "      <th>test_acc_ensemble</th>\n",
       "      <th>m_1_test_acc</th>\n",
       "      <th>m_2_test_acc</th>\n",
       "      <th>test_similarity</th>\n",
       "      <th>unlabeled_final_similarity</th>\n",
       "      <th>acc_wg</th>\n",
       "    </tr>\n",
       "  </thead>\n",
       "  <tbody>\n",
       "    <tr>\n",
       "      <th>mean</th>\n",
       "      <td>0.660</td>\n",
       "      <td>0.664</td>\n",
       "      <td>0.661</td>\n",
       "      <td>0.871</td>\n",
       "      <td>0.861</td>\n",
       "      <td>0.083</td>\n",
       "    </tr>\n",
       "    <tr>\n",
       "      <th>std</th>\n",
       "      <td>0.012</td>\n",
       "      <td>0.013</td>\n",
       "      <td>0.004</td>\n",
       "      <td>0.004</td>\n",
       "      <td>0.019</td>\n",
       "      <td>0.009</td>\n",
       "    </tr>\n",
       "  </tbody>\n",
       "</table>\n",
       "</div>"
      ],
      "text/plain": [
       "      test_acc_ensemble  m_1_test_acc  m_2_test_acc  test_similarity  \\\n",
       "mean              0.660         0.664         0.661            0.871   \n",
       "std               0.012         0.013         0.004            0.004   \n",
       "\n",
       "      unlabeled_final_similarity  acc_wg  \n",
       "mean                       0.861   0.083  \n",
       "std                        0.019   0.009  "
      ]
     },
     "metadata": {},
     "output_type": "display_data"
    },
    {
     "name": "stdout",
     "output_type": "stream",
     "text": [
      "NP_ERM\n"
     ]
    },
    {
     "data": {
      "text/html": [
       "<div>\n",
       "<style scoped>\n",
       "    .dataframe tbody tr th:only-of-type {\n",
       "        vertical-align: middle;\n",
       "    }\n",
       "\n",
       "    .dataframe tbody tr th {\n",
       "        vertical-align: top;\n",
       "    }\n",
       "\n",
       "    .dataframe thead th {\n",
       "        text-align: right;\n",
       "    }\n",
       "</style>\n",
       "<table border=\"1\" class=\"dataframe\">\n",
       "  <thead>\n",
       "    <tr style=\"text-align: right;\">\n",
       "      <th></th>\n",
       "      <th>test_acc_ensemble</th>\n",
       "      <th>m_1_test_acc</th>\n",
       "      <th>m_2_test_acc</th>\n",
       "      <th>test_similarity</th>\n",
       "      <th>unlabeled_final_similarity</th>\n",
       "      <th>acc_wg</th>\n",
       "    </tr>\n",
       "  </thead>\n",
       "  <tbody>\n",
       "    <tr>\n",
       "      <th>mean</th>\n",
       "      <td>0.664</td>\n",
       "      <td>0.623</td>\n",
       "      <td>0.719</td>\n",
       "      <td>0.802</td>\n",
       "      <td>0.806</td>\n",
       "      <td>0.128</td>\n",
       "    </tr>\n",
       "    <tr>\n",
       "      <th>std</th>\n",
       "      <td>nan</td>\n",
       "      <td>nan</td>\n",
       "      <td>nan</td>\n",
       "      <td>nan</td>\n",
       "      <td>nan</td>\n",
       "      <td>nan</td>\n",
       "    </tr>\n",
       "  </tbody>\n",
       "</table>\n",
       "</div>"
      ],
      "text/plain": [
       "      test_acc_ensemble  m_1_test_acc  m_2_test_acc  test_similarity  \\\n",
       "mean              0.664         0.623         0.719            0.802   \n",
       "std                 nan           nan           nan              nan   \n",
       "\n",
       "      unlabeled_final_similarity  acc_wg  \n",
       "mean                       0.806   0.128  \n",
       "std                          nan     nan  "
      ]
     },
     "metadata": {},
     "output_type": "display_data"
    }
   ],
   "source": [
    "def display_waterbirds_results(filename_format,title):\n",
    "\n",
    "    dataset=WaterbirdsDataset(root_dir=\"./datasets/\", download=False)\n",
    "    res= results(filename_format=filename_format, dataset=dataset, meta_metrics=[\"acc_wg\"], )\n",
    "    waterbirds_df = pd.DataFrame(res)\n",
    "    if waterbirds_df.empty:\n",
    "        return\n",
    "    d_bat_results_waterbirds = waterbirds_df.aggregate([\"mean\",\"std\"])\n",
    "\n",
    "    print(title)\n",
    "    pd.options.display.float_format = \"{:,.3f}\".format\n",
    "    display(d_bat_results_waterbirds)\n",
    "\n",
    "def display_all_waterbirds_results():\n",
    "\n",
    "    \n",
    "    for name, filename_format in waterbirds_filename_format.items():\n",
    "        title = str.upper(name)\n",
    "        display_waterbirds_results(filename_format=filename_format, title=title)\n",
    "\n",
    "\n",
    "display_all_waterbirds_results()\n"
   ]
  },
  {
   "cell_type": "code",
   "execution_count": null,
   "metadata": {},
   "outputs": [],
   "source": []
  },
  {
   "cell_type": "code",
   "execution_count": 9,
   "metadata": {},
   "outputs": [
    {
     "ename": "NameError",
     "evalue": "name 'logs' is not defined",
     "output_type": "error",
     "traceback": [
      "\u001b[0;31m---------------------------------------------------------------------------\u001b[0m",
      "\u001b[0;31mNameError\u001b[0m                                 Traceback (most recent call last)",
      "\u001b[0;32m<ipython-input-9-df48589ca088>\u001b[0m in \u001b[0;36m<module>\u001b[0;34m\u001b[0m\n\u001b[1;32m      1\u001b[0m \u001b[0;31m### Testing\u001b[0m\u001b[0;34m\u001b[0m\u001b[0;34m\u001b[0m\u001b[0;34m\u001b[0m\u001b[0m\n\u001b[1;32m      2\u001b[0m \u001b[0;31m## TEST METRICS\u001b[0m\u001b[0;34m\u001b[0m\u001b[0;34m\u001b[0m\u001b[0;34m\u001b[0m\u001b[0m\n\u001b[0;32m----> 3\u001b[0;31m \u001b[0mtest_acc_ensemble\u001b[0m \u001b[0;34m=\u001b[0m \u001b[0mlogs\u001b[0m\u001b[0;34m[\u001b[0m\u001b[0;34m\"ensemble-test-acc\"\u001b[0m\u001b[0;34m]\u001b[0m\u001b[0;34m\u001b[0m\u001b[0;34m\u001b[0m\u001b[0m\n\u001b[0m\u001b[1;32m      4\u001b[0m \u001b[0mbest_single_model_test_acc\u001b[0m \u001b[0;34m=\u001b[0m \u001b[0mmax\u001b[0m\u001b[0;34m(\u001b[0m\u001b[0mlogs\u001b[0m\u001b[0;34m[\u001b[0m\u001b[0;34m\"test-acc\"\u001b[0m\u001b[0;34m]\u001b[0m\u001b[0;34m)\u001b[0m\u001b[0;34m\u001b[0m\u001b[0;34m\u001b[0m\u001b[0m\n\u001b[1;32m      5\u001b[0m \u001b[0mtest_acc_of_sub_ensembles\u001b[0m \u001b[0;34m=\u001b[0m \u001b[0mlogs\u001b[0m\u001b[0;34m[\u001b[0m\u001b[0;34m\"test_acc_ensemble_per_ens_size\"\u001b[0m\u001b[0;34m]\u001b[0m\u001b[0;34m\u001b[0m\u001b[0;34m\u001b[0m\u001b[0m\n",
      "\u001b[0;31mNameError\u001b[0m: name 'logs' is not defined"
     ]
    }
   ],
   "source": [
    "### Testing\n",
    "## TEST METRICS\n",
    "test_acc_ensemble = logs[\"ensemble-test-acc\"]\n",
    "best_single_model_test_acc = max(logs[\"test-acc\"])\n",
    "test_acc_of_sub_ensembles = logs[\"test_acc_ensemble_per_ens_size\"]\n",
    "\n",
    "ensemble_size = 2\n",
    "best_val_acc_per_model = {f\"m{i}\": max([x[1] for x in logs[f\"m{i}\"][\"valid-acc\"]]) for i in range(1,ensemble_size+1)}\n",
    "best_val_acc_per_model"
   ]
  }
 ],
 "metadata": {
  "kernelspec": {
   "display_name": "py38",
   "language": "python",
   "name": "python3"
  },
  "language_info": {
   "codemirror_mode": {
    "name": "ipython",
    "version": 3
   },
   "file_extension": ".py",
   "mimetype": "text/x-python",
   "name": "python",
   "nbconvert_exporter": "python",
   "pygments_lexer": "ipython3",
   "version": "3.8.13"
  },
  "orig_nbformat": 4
 },
 "nbformat": 4,
 "nbformat_minor": 2
}
