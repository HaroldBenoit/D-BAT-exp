{
 "cells": [
  {
   "cell_type": "code",
   "execution_count": 73,
   "metadata": {},
   "outputs": [],
   "source": [
    "import json\n",
    "import numpy as np\n",
    "import matplotlib.pyplot as plt\n",
    "import pandas as pd\n",
    "import torch"
   ]
  },
  {
   "cell_type": "code",
   "execution_count": 95,
   "metadata": {},
   "outputs": [],
   "source": [
    "from wilds.datasets.waterbirds_dataset import WaterbirdsDataset\n",
    "from wilds.datasets.wilds_dataset import WILDSDataset"
   ]
  },
  {
   "attachments": {},
   "cell_type": "markdown",
   "metadata": {},
   "source": [
    "### Testing"
   ]
  },
  {
   "cell_type": "code",
   "execution_count": null,
   "metadata": {},
   "outputs": [],
   "source": [
    "## TEST METRICS\n",
    "test_acc_ensemble = logs[\"ensemble-test-acc\"]\n",
    "best_single_model_test_acc = max(logs[\"test-acc\"])\n",
    "test_acc_of_sub_ensembles = logs[\"test_acc_ensemble_per_ens_size\"]\n",
    "\n",
    "ensemble_size = 2\n",
    "best_val_acc_per_model = {f\"m{i}\": max([x[1] for x in logs[f\"m{i}\"][\"valid-acc\"]]) for i in range(1,ensemble_size+1)}\n",
    "best_val_acc_per_model"
   ]
  },
  {
   "attachments": {},
   "cell_type": "markdown",
   "metadata": {},
   "source": [
    "## WATERBIRDS REPRODUCTION RESULTS"
   ]
  },
  {
   "cell_type": "code",
   "execution_count": 91,
   "metadata": {},
   "outputs": [],
   "source": [
    "from collections import defaultdict\n",
    "import os.path as osp\n",
    "from typing import Union, Dict, List\n",
    "\n",
    "def get_eval_meta_args(logs, y_index):\n",
    "    test_metadata= np.array(logs[\"test-metas\"][0])\n",
    "    y_true = test_metadata[:,y_index]\n",
    "    test_logits = np.array(logs[\"test-logits\"][0][0])\n",
    "    y_pred = np.argmax(test_logits,axis=1)\n",
    "    y_true = torch.tensor(y_true)\n",
    "    y_pred= torch.tensor(y_pred)\n",
    "    test_metadata= torch.tensor(test_metadata)\n",
    "\n",
    "def results(filename_format, dataset:WILDSDataset, meta_metrics:Union[List[str],None]=None, no_diversity=False):\n",
    "    dataset = \"waterbirds\"\n",
    "\n",
    "    y_index=dataset.metadata_fields.index(\"y\")\n",
    "\n",
    "    no_diversity=False\n",
    "    ensemble_size=2\n",
    "    res= defaultdict(list)\n",
    "\n",
    "    for seed in range(3):\n",
    "        filename= filename_format.format(seed=seed, no_diversity = no_diversity)\n",
    "        filename = osp.join(filename,\"summary.json\")\n",
    "\n",
    "        with open(filename) as f:\n",
    "            logs=json.load(f)\n",
    "\n",
    "            res[\"test_acc_ensemble\"].append(logs[\"ensemble-test-acc\"])\n",
    "            res[\"best_single_model_test_acc\"].append(max(logs[\"test-acc\"]))\n",
    "            for i in range(ensemble_size):\n",
    "                res[f\"m_{i+1}_test_acc\"].append(logs[\"test-acc\"][i])\n",
    "            res[\"test_similarity\"].append(logs[\"test_similarity\"][0][1])\n",
    "            res[\"unlabeled_final_similarity\"].append(logs[\"unlabeled_final_similarty\"][0][1])\n",
    "\n",
    "\n",
    "            ## worst group eval\n",
    "\n",
    "\n",
    "            eval_res = dataset.eval(y_pred=y_pred, y_true=y_true, metadata=test_metadata)\n",
    "            res[\"acc_wg\"].append(eval_res[0][\"acc_wg\"])\n",
    "\n",
    "    \n",
    "    return res"
   ]
  },
  {
   "cell_type": "code",
   "execution_count": 92,
   "metadata": {},
   "outputs": [],
   "source": [
    "filename_format = \"/datasets/home/hbenoit/D-BAT-exp/results_reproduction/waterbird/perturb=ood_is_test/resnet50_pretrained=True/ep300/ep=300_lrmax=0.001_alpha=0.0001_dataset=waterbird_perturb_type=ood_is_test_model=resnet50_pretrained=True_scheduler=none_seed={seed}_opt=sgd_ensemble_size=2_no_diversity={no_diversity}_dbat_loss_type=v1_weight_decay=0.0001_no_nesterov_majority_only=False\"\n",
    "dataset=WaterbirdsDataset(root_dir=\"./datasets/\", download=False)\n",
    "res= results(filename_format=filename_format, dataset=dataset, meta_metrics=[\"acc_wg\"], no_diversity=False)\n",
    "waterbirds_df = pd.DataFrame()\n",
    "pd.options.display.float_format = \"{:,.3f}\".format\n",
    "waterbirds_df.aggregate([\"mean\",\"std\"])"
   ]
  }
 ],
 "metadata": {
  "kernelspec": {
   "display_name": "py38",
   "language": "python",
   "name": "python3"
  },
  "language_info": {
   "codemirror_mode": {
    "name": "ipython",
    "version": 3
   },
   "file_extension": ".py",
   "mimetype": "text/x-python",
   "name": "python",
   "nbconvert_exporter": "python",
   "pygments_lexer": "ipython3",
   "version": "3.8.13"
  },
  "orig_nbformat": 4
 },
 "nbformat": 4,
 "nbformat_minor": 2
}
