{
 "cells": [
  {
   "cell_type": "code",
   "execution_count": 36,
   "metadata": {},
   "outputs": [],
   "source": [
    "import wilds\n",
    "from wilds.datasets.waterbirds_dataset import WaterbirdsDataset\n",
    "from torch.utils.data import Subset\n",
    "import numpy as np"
   ]
  },
  {
   "cell_type": "code",
   "execution_count": 59,
   "metadata": {},
   "outputs": [],
   "source": [
    "def majority_only_waterbirds_dataset(dataset:WaterbirdsDataset) -> WaterbirdsDataset:\n",
    "    train_split_mask = dataset.split_array == dataset.split_dict[\"train\"]\n",
    "    train_split_idx = np.where(train_split_mask)[0]\n",
    "\n",
    "    train_metadata_array = dataset.metadata_array[train_split_mask,:]\n",
    "\n",
    "    #(train_metadata_array[:,0].numpy() == train_metadata_array[:,1].numpy()).mean()\n",
    "    spurious = (train_metadata_array[:,0].numpy() == train_metadata_array[:,1].numpy())\n",
    "\n",
    "    non_spurious_train_split_idx = train_split_idx[~spurious]\n",
    "\n",
    "    dataset.split_array[non_spurious_train_split_idx] = -1\n",
    "\n",
    "    return dataset"
   ]
  },
  {
   "cell_type": "code",
   "execution_count": 60,
   "metadata": {},
   "outputs": [],
   "source": [
    "majority_only = True\n",
    "dataset = WaterbirdsDataset(root_dir=\"datasets\")\n",
    "if majority_only:\n",
    "    dataset = majority_only_waterbirds_dataset(dataset)\n",
    "data_train = dataset.get_subset(\"train\")\n",
    "data_test  = dataset.get_subset(\"test\")\n",
    "data_valid = dataset.get_subset(\"val\") \n"
   ]
  },
  {
   "cell_type": "code",
   "execution_count": 67,
   "metadata": {},
   "outputs": [
    {
     "data": {
      "text/plain": [
       "0"
      ]
     },
     "execution_count": 67,
     "metadata": {},
     "output_type": "execute_result"
    }
   ],
   "source": [
    "dataset.metadata_fields.index('background')"
   ]
  },
  {
   "cell_type": "code",
   "execution_count": 25,
   "metadata": {},
   "outputs": [],
   "source": [
    "def check_stats(data):\n",
    "\n",
    "    spurious = (data.metadata_array[:,0].numpy() == data.metadata_array[:,1].numpy())\n",
    "    confounder_strength = spurious.mean()\n",
    "\n",
    "    print(f\"Confounder_strength = {confounder_strength:.3f}\")\n",
    "    \n",
    "    return confounder_strength\n",
    "\n"
   ]
  },
  {
   "cell_type": "code",
   "execution_count": 37,
   "metadata": {},
   "outputs": [],
   "source": [
    "def majority_only(data):\n",
    "\n",
    "    spurious = (data.metadata_array[:,0].numpy() == data.metadata_array[:,1].numpy())\n",
    "\n",
    "    spurious_idx= np.arange(len(data))[spurious]\n",
    "\n",
    "    return data[spurious_idx]\n"
   ]
  },
  {
   "cell_type": "code",
   "execution_count": 58,
   "metadata": {},
   "outputs": [],
   "source": []
  }
 ],
 "metadata": {
  "kernelspec": {
   "display_name": "py38",
   "language": "python",
   "name": "python3"
  },
  "language_info": {
   "codemirror_mode": {
    "name": "ipython",
    "version": 3
   },
   "file_extension": ".py",
   "mimetype": "text/x-python",
   "name": "python",
   "nbconvert_exporter": "python",
   "pygments_lexer": "ipython3",
   "version": "3.8.13"
  },
  "orig_nbformat": 4
 },
 "nbformat": 4,
 "nbformat_minor": 2
}
